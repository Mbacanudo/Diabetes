{
  "nbformat": 4,
  "nbformat_minor": 0,
  "metadata": {
    "colab": {
      "provenance": [],
      "authorship_tag": "ABX9TyO6kAh+S2kPdltc9dtxnZR+",
      "include_colab_link": true
    },
    "kernelspec": {
      "name": "python3",
      "display_name": "Python 3"
    },
    "language_info": {
      "name": "python"
    }
  },
  "cells": [
    {
      "cell_type": "markdown",
      "metadata": {
        "id": "view-in-github",
        "colab_type": "text"
      },
      "source": [
        "<a href=\"https://colab.research.google.com/github/Mbacanudo/Diabetes/blob/main/diabetes.ipynb\" target=\"_parent\"><img src=\"https://colab.research.google.com/assets/colab-badge.svg\" alt=\"Open In Colab\"/></a>"
      ]
    },
    {
      "cell_type": "markdown",
      "source": [
        "## Datos Personales\n",
        "\n",
        "* **Nombre**: Mario Eduardo Navarro Montero\n",
        "* **DataSet**: Diabetes\n",
        "\n",
        "###Objetivos:\n",
        "\n",
        "- Basándonos en las características y utilizando modelos de aprendizaje automático (ML), determinaremos si es posible predecir si un paciente podría desarrollar diabetes."
      ],
      "metadata": {
        "id": "FXZMbWUYzoPi"
      }
    },
    {
      "cell_type": "markdown",
      "source": [
        "###Diccionario de datos:\n",
        "\n",
        "\n",
        "| Nombre columna           | Tipo de dato | Descripción                                  |\n",
        "|--------------------------|--------------|----------------------------------------------|\n",
        "| Outcome                  | Int          | Diabetes (0 = no, 1 = sí) (objetivo)         |\n",
        "| Pregnancies              | Int          | Número de embarazos                          |\n",
        "| Glucose                  | Int          | Concentración de glucosa en plasma           |\n",
        "| BloodPressure            | Int          | Presión arterial diastólica (mm Hg)          |\n",
        "| SkinThickness            | Int          | Espesor del pliegue cutáneo del tríceps (mm) |\n",
        "| Insulin                  | Int          | Insulina sérica de 2 horas (muU/ml)          |\n",
        "| BMI                      | Flotante     | Índice de masa corporal                      |\n",
        "| DiabetesPedigreeFunction | Flotante     | Función pedigree Diabetes                    |\n",
        "| Age                      | Int          | Edad                                         |"
      ],
      "metadata": {
        "id": "_3F5ZjAW0Dor"
      }
    },
    {
      "cell_type": "markdown",
      "source": [
        "## Solución"
      ],
      "metadata": {
        "id": "0XjbrdyP0C6J"
      }
    },
    {
      "cell_type": "code",
      "source": [
        "# Librerías\n",
        "\n",
        "import time\n",
        "import pandas as pd\n",
        "import numpy as np\n",
        "from sklearn.model_selection import train_test_split, GridSearchCV\n",
        "from sklearn.pipeline import Pipeline, make_pipeline\n",
        "from sklearn.compose import ColumnTransformer, make_column_selector, make_column_transformer\n",
        "from sklearn.preprocessing import StandardScaler, OneHotEncoder, LabelEncoder\n",
        "from sklearn.impute import SimpleImputer\n",
        "from sklearn.linear_model import LogisticRegression, LinearRegression\n",
        "from sklearn.neighbors import KNeighborsClassifier\n",
        "from sklearn.metrics import classification_report, r2_score, mean_absolute_error, mean_squared_error, roc_auc_score, RocCurveDisplay, roc_curve, auc, confusion_matrix\n",
        "from sklearn.tree import DecisionTreeClassifier, DecisionTreeRegressor\n",
        "from sklearn.ensemble import BaggingRegressor, BaggingClassifier, RandomForestRegressor, RandomForestClassifier\n",
        "from sklearn.cluster import KMeans\n",
        "from sklearn.decomposition import PCA\n",
        "import seaborn as sns\n",
        "import matplotlib.pyplot as plt\n",
        "import plotly.express as px\n",
        "from yellowbrick.cluster import KElbowVisualizer"
      ],
      "metadata": {
        "id": "6Ab6EA49zn1s"
      },
      "execution_count": null,
      "outputs": []
    },
    {
      "cell_type": "markdown",
      "source": [
        "### I.- Manipulación de datos y Visualizaciones\n"
      ],
      "metadata": {
        "id": "O-djMrCE0G-t"
      }
    },
    {
      "cell_type": "code",
      "execution_count": null,
      "metadata": {
        "colab": {
          "base_uri": "https://localhost:8080/",
          "height": 206
        },
        "id": "b0jceRUOzd7P",
        "outputId": "8351b5a2-2fc3-4cee-91e0-45f790bc6b8d"
      },
      "outputs": [
        {
          "output_type": "execute_result",
          "data": {
            "text/plain": [
              "   Pregnancies  Glucose  BloodPressure  SkinThickness  Insulin   BMI  \\\n",
              "0            6      148             72             35        0  33.6   \n",
              "1            1       85             66             29        0  26.6   \n",
              "2            8      183             64              0        0  23.3   \n",
              "3            1       89             66             23       94  28.1   \n",
              "4            0      137             40             35      168  43.1   \n",
              "\n",
              "   DiabetesPedigreeFunction  Age  Outcome  \n",
              "0                     0.627   50        1  \n",
              "1                     0.351   31        0  \n",
              "2                     0.672   32        1  \n",
              "3                     0.167   21        0  \n",
              "4                     2.288   33        1  "
            ],
            "text/html": [
              "\n",
              "  <div id=\"df-289d60ed-4d6a-489a-9872-00fd6db15e25\" class=\"colab-df-container\">\n",
              "    <div>\n",
              "<style scoped>\n",
              "    .dataframe tbody tr th:only-of-type {\n",
              "        vertical-align: middle;\n",
              "    }\n",
              "\n",
              "    .dataframe tbody tr th {\n",
              "        vertical-align: top;\n",
              "    }\n",
              "\n",
              "    .dataframe thead th {\n",
              "        text-align: right;\n",
              "    }\n",
              "</style>\n",
              "<table border=\"1\" class=\"dataframe\">\n",
              "  <thead>\n",
              "    <tr style=\"text-align: right;\">\n",
              "      <th></th>\n",
              "      <th>Pregnancies</th>\n",
              "      <th>Glucose</th>\n",
              "      <th>BloodPressure</th>\n",
              "      <th>SkinThickness</th>\n",
              "      <th>Insulin</th>\n",
              "      <th>BMI</th>\n",
              "      <th>DiabetesPedigreeFunction</th>\n",
              "      <th>Age</th>\n",
              "      <th>Outcome</th>\n",
              "    </tr>\n",
              "  </thead>\n",
              "  <tbody>\n",
              "    <tr>\n",
              "      <th>0</th>\n",
              "      <td>6</td>\n",
              "      <td>148</td>\n",
              "      <td>72</td>\n",
              "      <td>35</td>\n",
              "      <td>0</td>\n",
              "      <td>33.6</td>\n",
              "      <td>0.627</td>\n",
              "      <td>50</td>\n",
              "      <td>1</td>\n",
              "    </tr>\n",
              "    <tr>\n",
              "      <th>1</th>\n",
              "      <td>1</td>\n",
              "      <td>85</td>\n",
              "      <td>66</td>\n",
              "      <td>29</td>\n",
              "      <td>0</td>\n",
              "      <td>26.6</td>\n",
              "      <td>0.351</td>\n",
              "      <td>31</td>\n",
              "      <td>0</td>\n",
              "    </tr>\n",
              "    <tr>\n",
              "      <th>2</th>\n",
              "      <td>8</td>\n",
              "      <td>183</td>\n",
              "      <td>64</td>\n",
              "      <td>0</td>\n",
              "      <td>0</td>\n",
              "      <td>23.3</td>\n",
              "      <td>0.672</td>\n",
              "      <td>32</td>\n",
              "      <td>1</td>\n",
              "    </tr>\n",
              "    <tr>\n",
              "      <th>3</th>\n",
              "      <td>1</td>\n",
              "      <td>89</td>\n",
              "      <td>66</td>\n",
              "      <td>23</td>\n",
              "      <td>94</td>\n",
              "      <td>28.1</td>\n",
              "      <td>0.167</td>\n",
              "      <td>21</td>\n",
              "      <td>0</td>\n",
              "    </tr>\n",
              "    <tr>\n",
              "      <th>4</th>\n",
              "      <td>0</td>\n",
              "      <td>137</td>\n",
              "      <td>40</td>\n",
              "      <td>35</td>\n",
              "      <td>168</td>\n",
              "      <td>43.1</td>\n",
              "      <td>2.288</td>\n",
              "      <td>33</td>\n",
              "      <td>1</td>\n",
              "    </tr>\n",
              "  </tbody>\n",
              "</table>\n",
              "</div>\n",
              "    <div class=\"colab-df-buttons\">\n",
              "\n",
              "  <div class=\"colab-df-container\">\n",
              "    <button class=\"colab-df-convert\" onclick=\"convertToInteractive('df-289d60ed-4d6a-489a-9872-00fd6db15e25')\"\n",
              "            title=\"Convert this dataframe to an interactive table.\"\n",
              "            style=\"display:none;\">\n",
              "\n",
              "  <svg xmlns=\"http://www.w3.org/2000/svg\" height=\"24px\" viewBox=\"0 -960 960 960\">\n",
              "    <path d=\"M120-120v-720h720v720H120Zm60-500h600v-160H180v160Zm220 220h160v-160H400v160Zm0 220h160v-160H400v160ZM180-400h160v-160H180v160Zm440 0h160v-160H620v160ZM180-180h160v-160H180v160Zm440 0h160v-160H620v160Z\"/>\n",
              "  </svg>\n",
              "    </button>\n",
              "\n",
              "  <style>\n",
              "    .colab-df-container {\n",
              "      display:flex;\n",
              "      gap: 12px;\n",
              "    }\n",
              "\n",
              "    .colab-df-convert {\n",
              "      background-color: #E8F0FE;\n",
              "      border: none;\n",
              "      border-radius: 50%;\n",
              "      cursor: pointer;\n",
              "      display: none;\n",
              "      fill: #1967D2;\n",
              "      height: 32px;\n",
              "      padding: 0 0 0 0;\n",
              "      width: 32px;\n",
              "    }\n",
              "\n",
              "    .colab-df-convert:hover {\n",
              "      background-color: #E2EBFA;\n",
              "      box-shadow: 0px 1px 2px rgba(60, 64, 67, 0.3), 0px 1px 3px 1px rgba(60, 64, 67, 0.15);\n",
              "      fill: #174EA6;\n",
              "    }\n",
              "\n",
              "    .colab-df-buttons div {\n",
              "      margin-bottom: 4px;\n",
              "    }\n",
              "\n",
              "    [theme=dark] .colab-df-convert {\n",
              "      background-color: #3B4455;\n",
              "      fill: #D2E3FC;\n",
              "    }\n",
              "\n",
              "    [theme=dark] .colab-df-convert:hover {\n",
              "      background-color: #434B5C;\n",
              "      box-shadow: 0px 1px 3px 1px rgba(0, 0, 0, 0.15);\n",
              "      filter: drop-shadow(0px 1px 2px rgba(0, 0, 0, 0.3));\n",
              "      fill: #FFFFFF;\n",
              "    }\n",
              "  </style>\n",
              "\n",
              "    <script>\n",
              "      const buttonEl =\n",
              "        document.querySelector('#df-289d60ed-4d6a-489a-9872-00fd6db15e25 button.colab-df-convert');\n",
              "      buttonEl.style.display =\n",
              "        google.colab.kernel.accessAllowed ? 'block' : 'none';\n",
              "\n",
              "      async function convertToInteractive(key) {\n",
              "        const element = document.querySelector('#df-289d60ed-4d6a-489a-9872-00fd6db15e25');\n",
              "        const dataTable =\n",
              "          await google.colab.kernel.invokeFunction('convertToInteractive',\n",
              "                                                    [key], {});\n",
              "        if (!dataTable) return;\n",
              "\n",
              "        const docLinkHtml = 'Like what you see? Visit the ' +\n",
              "          '<a target=\"_blank\" href=https://colab.research.google.com/notebooks/data_table.ipynb>data table notebook</a>'\n",
              "          + ' to learn more about interactive tables.';\n",
              "        element.innerHTML = '';\n",
              "        dataTable['output_type'] = 'display_data';\n",
              "        await google.colab.output.renderOutput(dataTable, element);\n",
              "        const docLink = document.createElement('div');\n",
              "        docLink.innerHTML = docLinkHtml;\n",
              "        element.appendChild(docLink);\n",
              "      }\n",
              "    </script>\n",
              "  </div>\n",
              "\n",
              "\n",
              "<div id=\"df-bf3d76a5-e716-4439-bb91-fc44ea08e63d\">\n",
              "  <button class=\"colab-df-quickchart\" onclick=\"quickchart('df-bf3d76a5-e716-4439-bb91-fc44ea08e63d')\"\n",
              "            title=\"Suggest charts.\"\n",
              "            style=\"display:none;\">\n",
              "\n",
              "<svg xmlns=\"http://www.w3.org/2000/svg\" height=\"24px\"viewBox=\"0 0 24 24\"\n",
              "     width=\"24px\">\n",
              "    <g>\n",
              "        <path d=\"M19 3H5c-1.1 0-2 .9-2 2v14c0 1.1.9 2 2 2h14c1.1 0 2-.9 2-2V5c0-1.1-.9-2-2-2zM9 17H7v-7h2v7zm4 0h-2V7h2v10zm4 0h-2v-4h2v4z\"/>\n",
              "    </g>\n",
              "</svg>\n",
              "  </button>\n",
              "\n",
              "<style>\n",
              "  .colab-df-quickchart {\n",
              "      --bg-color: #E8F0FE;\n",
              "      --fill-color: #1967D2;\n",
              "      --hover-bg-color: #E2EBFA;\n",
              "      --hover-fill-color: #174EA6;\n",
              "      --disabled-fill-color: #AAA;\n",
              "      --disabled-bg-color: #DDD;\n",
              "  }\n",
              "\n",
              "  [theme=dark] .colab-df-quickchart {\n",
              "      --bg-color: #3B4455;\n",
              "      --fill-color: #D2E3FC;\n",
              "      --hover-bg-color: #434B5C;\n",
              "      --hover-fill-color: #FFFFFF;\n",
              "      --disabled-bg-color: #3B4455;\n",
              "      --disabled-fill-color: #666;\n",
              "  }\n",
              "\n",
              "  .colab-df-quickchart {\n",
              "    background-color: var(--bg-color);\n",
              "    border: none;\n",
              "    border-radius: 50%;\n",
              "    cursor: pointer;\n",
              "    display: none;\n",
              "    fill: var(--fill-color);\n",
              "    height: 32px;\n",
              "    padding: 0;\n",
              "    width: 32px;\n",
              "  }\n",
              "\n",
              "  .colab-df-quickchart:hover {\n",
              "    background-color: var(--hover-bg-color);\n",
              "    box-shadow: 0 1px 2px rgba(60, 64, 67, 0.3), 0 1px 3px 1px rgba(60, 64, 67, 0.15);\n",
              "    fill: var(--button-hover-fill-color);\n",
              "  }\n",
              "\n",
              "  .colab-df-quickchart-complete:disabled,\n",
              "  .colab-df-quickchart-complete:disabled:hover {\n",
              "    background-color: var(--disabled-bg-color);\n",
              "    fill: var(--disabled-fill-color);\n",
              "    box-shadow: none;\n",
              "  }\n",
              "\n",
              "  .colab-df-spinner {\n",
              "    border: 2px solid var(--fill-color);\n",
              "    border-color: transparent;\n",
              "    border-bottom-color: var(--fill-color);\n",
              "    animation:\n",
              "      spin 1s steps(1) infinite;\n",
              "  }\n",
              "\n",
              "  @keyframes spin {\n",
              "    0% {\n",
              "      border-color: transparent;\n",
              "      border-bottom-color: var(--fill-color);\n",
              "      border-left-color: var(--fill-color);\n",
              "    }\n",
              "    20% {\n",
              "      border-color: transparent;\n",
              "      border-left-color: var(--fill-color);\n",
              "      border-top-color: var(--fill-color);\n",
              "    }\n",
              "    30% {\n",
              "      border-color: transparent;\n",
              "      border-left-color: var(--fill-color);\n",
              "      border-top-color: var(--fill-color);\n",
              "      border-right-color: var(--fill-color);\n",
              "    }\n",
              "    40% {\n",
              "      border-color: transparent;\n",
              "      border-right-color: var(--fill-color);\n",
              "      border-top-color: var(--fill-color);\n",
              "    }\n",
              "    60% {\n",
              "      border-color: transparent;\n",
              "      border-right-color: var(--fill-color);\n",
              "    }\n",
              "    80% {\n",
              "      border-color: transparent;\n",
              "      border-right-color: var(--fill-color);\n",
              "      border-bottom-color: var(--fill-color);\n",
              "    }\n",
              "    90% {\n",
              "      border-color: transparent;\n",
              "      border-bottom-color: var(--fill-color);\n",
              "    }\n",
              "  }\n",
              "</style>\n",
              "\n",
              "  <script>\n",
              "    async function quickchart(key) {\n",
              "      const quickchartButtonEl =\n",
              "        document.querySelector('#' + key + ' button');\n",
              "      quickchartButtonEl.disabled = true;  // To prevent multiple clicks.\n",
              "      quickchartButtonEl.classList.add('colab-df-spinner');\n",
              "      try {\n",
              "        const charts = await google.colab.kernel.invokeFunction(\n",
              "            'suggestCharts', [key], {});\n",
              "      } catch (error) {\n",
              "        console.error('Error during call to suggestCharts:', error);\n",
              "      }\n",
              "      quickchartButtonEl.classList.remove('colab-df-spinner');\n",
              "      quickchartButtonEl.classList.add('colab-df-quickchart-complete');\n",
              "    }\n",
              "    (() => {\n",
              "      let quickchartButtonEl =\n",
              "        document.querySelector('#df-bf3d76a5-e716-4439-bb91-fc44ea08e63d button');\n",
              "      quickchartButtonEl.style.display =\n",
              "        google.colab.kernel.accessAllowed ? 'block' : 'none';\n",
              "    })();\n",
              "  </script>\n",
              "</div>\n",
              "    </div>\n",
              "  </div>\n"
            ]
          },
          "metadata": {},
          "execution_count": 2
        }
      ],
      "source": [
        "# Cargamos el conjunto de datos y realizamos una vista gral a los datos cargados\n",
        "file = \"/content/diabetes.csv\"\n",
        "df = pd.read_csv(file)\n",
        "\n",
        "df.head()"
      ]
    },
    {
      "cell_type": "code",
      "source": [
        "# Revisamos el tipo de datos de cada columna\n",
        "df.info()"
      ],
      "metadata": {
        "colab": {
          "base_uri": "https://localhost:8080/"
        },
        "id": "nHAtCHlq113_",
        "outputId": "7ac5307c-59bf-4401-e76a-dc4005c16eb1"
      },
      "execution_count": null,
      "outputs": [
        {
          "output_type": "stream",
          "name": "stdout",
          "text": [
            "<class 'pandas.core.frame.DataFrame'>\n",
            "RangeIndex: 768 entries, 0 to 767\n",
            "Data columns (total 9 columns):\n",
            " #   Column                    Non-Null Count  Dtype  \n",
            "---  ------                    --------------  -----  \n",
            " 0   Pregnancies               768 non-null    int64  \n",
            " 1   Glucose                   768 non-null    int64  \n",
            " 2   BloodPressure             768 non-null    int64  \n",
            " 3   SkinThickness             768 non-null    int64  \n",
            " 4   Insulin                   768 non-null    int64  \n",
            " 5   BMI                       768 non-null    float64\n",
            " 6   DiabetesPedigreeFunction  768 non-null    float64\n",
            " 7   Age                       768 non-null    int64  \n",
            " 8   Outcome                   768 non-null    int64  \n",
            "dtypes: float64(2), int64(7)\n",
            "memory usage: 54.1 KB\n"
          ]
        }
      ]
    },
    {
      "cell_type": "markdown",
      "source": [
        "##Vista general del Dataset"
      ],
      "metadata": {
        "id": "HyHv5-OfsYNp"
      }
    },
    {
      "cell_type": "code",
      "source": [
        "print(\"------------------------------------------------------\\n\")\n",
        "print(f\"Número de columnas: {df.shape[1]}\\n\")\n",
        "print(f\"Número de filas: {df.shape[0]}\\n\")\n",
        "print(f\"Número de elementos duplicados: {df.duplicated().sum()}\\n\")\n",
        "print(f\"Número de valores nulos: {df.isna().sum().sum()}\\n\")\n",
        "print(\"------------------------------------------------------\")"
      ],
      "metadata": {
        "colab": {
          "base_uri": "https://localhost:8080/"
        },
        "id": "0MExSG0X1nzI",
        "outputId": "9c09f5d6-8e5b-4436-fe1b-34c30f14dd9a"
      },
      "execution_count": null,
      "outputs": [
        {
          "output_type": "stream",
          "name": "stdout",
          "text": [
            "------------------------------------------------------\n",
            "\n",
            "Número de columnas: 9\n",
            "\n",
            "Número de filas: 768\n",
            "\n",
            "Número de elementos duplicados: 0\n",
            "\n",
            "Número de valores nulos: 0\n",
            "\n",
            "------------------------------------------------------\n"
          ]
        }
      ]
    },
    {
      "cell_type": "code",
      "source": [
        "print(\"------------------------------------------------------\\n\")\n",
        "print(f\"Columna objetivo: Outcome \\n\")\n",
        "print(f\"Columnas númericas: Pregnancies, Glucose, BloodPressure, SkinThickness, Insulin, BMI, DiabetesPedigreeFunction, Age\\n\")\n",
        "print(\"------------------------------------------------------\")"
      ],
      "metadata": {
        "colab": {
          "base_uri": "https://localhost:8080/"
        },
        "id": "kXBi6T7m2Q5V",
        "outputId": "bc8309b4-3bda-4b47-be97-fde0ff01b7bf"
      },
      "execution_count": null,
      "outputs": [
        {
          "output_type": "stream",
          "name": "stdout",
          "text": [
            "------------------------------------------------------\n",
            "\n",
            "Columna objetivo: Outcome \n",
            "\n",
            "Columnas númericas: Pregnancies, Glucose, BloodPressure, SkinThickness, Insulin, BMI, DiabetesPedigreeFunction, Age\n",
            "\n",
            "------------------------------------------------------\n"
          ]
        }
      ]
    },
    {
      "cell_type": "code",
      "source": [
        "print(\"------------------------------------------------------\\n\")\n",
        "print(f\"Total de pacientes sin diabetes :\", df[df[\"Outcome\"]==0].shape[0])\n",
        "print(f\"Total de pacientes con diabetes:\", df[df[\"Outcome\"]==1].shape[0], \"\\n\")\n",
        "print(\"------------------------------------------------------\")"
      ],
      "metadata": {
        "colab": {
          "base_uri": "https://localhost:8080/"
        },
        "id": "GM87_QmQCSUq",
        "outputId": "570129f4-b2fb-4a66-ea2f-886eda89fe12"
      },
      "execution_count": null,
      "outputs": [
        {
          "output_type": "stream",
          "name": "stdout",
          "text": [
            "------------------------------------------------------\n",
            "\n",
            "Total de pacientes sin diabetes : 500\n",
            "Total de pacientes con diabetes: 268 \n",
            "\n",
            "------------------------------------------------------\n"
          ]
        }
      ]
    },
    {
      "cell_type": "code",
      "source": [
        "df[\"Outcome\"].value_counts(normalize=True)"
      ],
      "metadata": {
        "colab": {
          "base_uri": "https://localhost:8080/"
        },
        "id": "zzmNKTGz4l4I",
        "outputId": "761c493e-506d-41e6-f338-d693ac50f7d1"
      },
      "execution_count": null,
      "outputs": [
        {
          "output_type": "execute_result",
          "data": {
            "text/plain": [
              "0    0.651042\n",
              "1    0.348958\n",
              "Name: Outcome, dtype: float64"
            ]
          },
          "metadata": {},
          "execution_count": 7
        }
      ]
    },
    {
      "cell_type": "code",
      "source": [
        "plt.figure(figsize=(8,6))\n",
        "sns.countplot(x='Outcome', data=df, palette = \"Set1\", edgecolor = \"black\");\n",
        "plt.ylabel(\"Total\")\n",
        "plt.xlabel(\"Diabetes (0 = No 1 = Si)\")\n",
        "plt.show()"
      ],
      "metadata": {
        "colab": {
          "base_uri": "https://localhost:8080/",
          "height": 542
        },
        "id": "fWC1dHjh7kRC",
        "outputId": "0cf8a3bf-bbf8-457e-f83e-50bb96bd1684"
      },
      "execution_count": null,
      "outputs": [
        {
          "output_type": "display_data",
          "data": {
            "text/plain": [
              "<Figure size 800x600 with 1 Axes>"
            ],
            "image/png": "[encoded data removed]"
          },
          "metadata": {}
        }
      ]
    },
    {
      "cell_type": "markdown",
      "source": [
        "**Conclusiones Intermedias**:\n",
        "- El conjunto de datos presenta valores numericos para todas las columnas\n",
        "- El conjunto de datos no presenta valores nulos\n",
        "- El conjunto de datos no presenta valores duplicados\n",
        "- El conjunto de datos presenta desbalance entre las clases (0 y 1)\n"
      ],
      "metadata": {
        "id": "0qPZYwn5rj_A"
      }
    },
    {
      "cell_type": "code",
      "source": [
        "# Revisamos la correlacion entre caracteristicas del DataFrame\n",
        "corr = df.corr()\n",
        "corr.style.background_gradient(cmap='coolwarm')"
      ],
      "metadata": {
        "colab": {
          "base_uri": "https://localhost:8080/",
          "height": 332
        },
        "id": "D1UWI9XB25k2",
        "outputId": "c0dc4767-8f58-487b-a0a9-bed271ea3600"
      },
      "execution_count": null,
      "outputs": [
        {
          "output_type": "execute_result",
          "data": {
            "text/plain": [
              "<pandas.io.formats.style.Styler at 0x7d2e71d172e0>"
            ],
            "text/html": [
              "<style type=\"text/css\">\n",
              "#T_f59f4_row0_col0, #T_f59f4_row1_col1, #T_f59f4_row2_col2, #T_f59f4_row3_col3, #T_f59f4_row4_col4, #T_f59f4_row5_col5, #T_f59f4_row6_col6, #T_f59f4_row7_col7, #T_f59f4_row8_col8 {\n",
              "  background-color: #b40426;\n",
              "  color: #f1f1f1;\n",
              "}\n",
              "#T_f59f4_row0_col1 {\n",
              "  background-color: #516ddb;\n",
              "  color: #f1f1f1;\n",
              "}\n",
              "#T_f59f4_row0_col2 {\n",
              "  background-color: #5a78e4;\n",
              "  color: #f1f1f1;\n",
              "}\n",
              "#T_f59f4_row0_col3, #T_f59f4_row7_col4 {\n",
              "  background-color: #4358cb;\n",
              "  color: #f1f1f1;\n",
              "}\n",
              "#T_f59f4_row0_col4, #T_f59f4_row0_col5, #T_f59f4_row0_col6, #T_f59f4_row2_col8, #T_f59f4_row3_col0, #T_f59f4_row3_col1, #T_f59f4_row3_col7, #T_f59f4_row6_col2, #T_f59f4_row7_col3 {\n",
              "  background-color: #3b4cc0;\n",
              "  color: #f1f1f1;\n",
              "}\n",
              "#T_f59f4_row0_col7 {\n",
              "  background-color: #f1cdba;\n",
              "  color: #000000;\n",
              "}\n",
              "#T_f59f4_row0_col8, #T_f59f4_row1_col6 {\n",
              "  background-color: #6f92f3;\n",
              "  color: #f1f1f1;\n",
              "}\n",
              "#T_f59f4_row1_col0 {\n",
              "  background-color: #799cf8;\n",
              "  color: #f1f1f1;\n",
              "}\n",
              "#T_f59f4_row1_col2, #T_f59f4_row6_col8 {\n",
              "  background-color: #5e7de7;\n",
              "  color: #f1f1f1;\n",
              "}\n",
              "#T_f59f4_row1_col3 {\n",
              "  background-color: #6b8df0;\n",
              "  color: #f1f1f1;\n",
              "}\n",
              "#T_f59f4_row1_col4 {\n",
              "  background-color: #b9d0f9;\n",
              "  color: #000000;\n",
              "}\n",
              "#T_f59f4_row1_col5, #T_f59f4_row3_col6 {\n",
              "  background-color: #7ea1fa;\n",
              "  color: #f1f1f1;\n",
              "}\n",
              "#T_f59f4_row1_col7 {\n",
              "  background-color: #abc8fd;\n",
              "  color: #000000;\n",
              "}\n",
              "#T_f59f4_row1_col8 {\n",
              "  background-color: #c9d7f0;\n",
              "  color: #000000;\n",
              "}\n",
              "#T_f59f4_row2_col0, #T_f59f4_row7_col2 {\n",
              "  background-color: #7da0f9;\n",
              "  color: #f1f1f1;\n",
              "}\n",
              "#T_f59f4_row2_col1 {\n",
              "  background-color: #5977e3;\n",
              "  color: #f1f1f1;\n",
              "}\n",
              "#T_f59f4_row2_col3 {\n",
              "  background-color: #9abbff;\n",
              "  color: #000000;\n",
              "}\n",
              "#T_f59f4_row2_col4 {\n",
              "  background-color: #6a8bef;\n",
              "  color: #f1f1f1;\n",
              "}\n",
              "#T_f59f4_row2_col5, #T_f59f4_row6_col3 {\n",
              "  background-color: #93b5fe;\n",
              "  color: #000000;\n",
              "}\n",
              "#T_f59f4_row2_col6 {\n",
              "  background-color: #506bda;\n",
              "  color: #f1f1f1;\n",
              "}\n",
              "#T_f59f4_row2_col7 {\n",
              "  background-color: #a5c3fe;\n",
              "  color: #000000;\n",
              "}\n",
              "#T_f59f4_row3_col2, #T_f59f4_row5_col1 {\n",
              "  background-color: #7295f4;\n",
              "  color: #f1f1f1;\n",
              "}\n",
              "#T_f59f4_row3_col4 {\n",
              "  background-color: #d6dce4;\n",
              "  color: #000000;\n",
              "}\n",
              "#T_f59f4_row3_col5 {\n",
              "  background-color: #bad0f8;\n",
              "  color: #000000;\n",
              "}\n",
              "#T_f59f4_row3_col8 {\n",
              "  background-color: #3d50c3;\n",
              "  color: #f1f1f1;\n",
              "}\n",
              "#T_f59f4_row4_col0 {\n",
              "  background-color: #3c4ec2;\n",
              "  color: #f1f1f1;\n",
              "}\n",
              "#T_f59f4_row4_col1 {\n",
              "  background-color: #9bbcff;\n",
              "  color: #000000;\n",
              "}\n",
              "#T_f59f4_row4_col2 {\n",
              "  background-color: #4961d2;\n",
              "  color: #f1f1f1;\n",
              "}\n",
              "#T_f59f4_row4_col3 {\n",
              "  background-color: #dbdcde;\n",
              "  color: #000000;\n",
              "}\n",
              "#T_f59f4_row4_col5 {\n",
              "  background-color: #7597f6;\n",
              "  color: #f1f1f1;\n",
              "}\n",
              "#T_f59f4_row4_col6 {\n",
              "  background-color: #80a3fa;\n",
              "  color: #f1f1f1;\n",
              "}\n",
              "#T_f59f4_row4_col7, #T_f59f4_row7_col6 {\n",
              "  background-color: #4e68d8;\n",
              "  color: #f1f1f1;\n",
              "}\n",
              "#T_f59f4_row4_col8 {\n",
              "  background-color: #4f69d9;\n",
              "  color: #f1f1f1;\n",
              "}\n",
              "#T_f59f4_row5_col0 {\n",
              "  background-color: #5673e0;\n",
              "  color: #f1f1f1;\n",
              "}\n",
              "#T_f59f4_row5_col2, #T_f59f4_row5_col4 {\n",
              "  background-color: #8db0fe;\n",
              "  color: #000000;\n",
              "}\n",
              "#T_f59f4_row5_col3 {\n",
              "  background-color: #d1dae9;\n",
              "  color: #000000;\n",
              "}\n",
              "#T_f59f4_row5_col6, #T_f59f4_row8_col3 {\n",
              "  background-color: #7093f3;\n",
              "  color: #f1f1f1;\n",
              "}\n",
              "#T_f59f4_row5_col7 {\n",
              "  background-color: #6485ec;\n",
              "  color: #f1f1f1;\n",
              "}\n",
              "#T_f59f4_row5_col8 {\n",
              "  background-color: #8badfd;\n",
              "  color: #000000;\n",
              "}\n",
              "#T_f59f4_row6_col0 {\n",
              "  background-color: #485fd1;\n",
              "  color: #f1f1f1;\n",
              "}\n",
              "#T_f59f4_row6_col1 {\n",
              "  background-color: #5470de;\n",
              "  color: #f1f1f1;\n",
              "}\n",
              "#T_f59f4_row6_col4 {\n",
              "  background-color: #89acfd;\n",
              "  color: #000000;\n",
              "}\n",
              "#T_f59f4_row6_col5 {\n",
              "  background-color: #6282ea;\n",
              "  color: #f1f1f1;\n",
              "}\n",
              "#T_f59f4_row6_col7 {\n",
              "  background-color: #6384eb;\n",
              "  color: #f1f1f1;\n",
              "}\n",
              "#T_f59f4_row7_col0 {\n",
              "  background-color: #efcfbf;\n",
              "  color: #000000;\n",
              "}\n",
              "#T_f59f4_row7_col1 {\n",
              "  background-color: #81a4fb;\n",
              "  color: #f1f1f1;\n",
              "}\n",
              "#T_f59f4_row7_col5 {\n",
              "  background-color: #3f53c6;\n",
              "  color: #f1f1f1;\n",
              "}\n",
              "#T_f59f4_row7_col8 {\n",
              "  background-color: #7699f6;\n",
              "  color: #f1f1f1;\n",
              "}\n",
              "#T_f59f4_row8_col0, #T_f59f4_row8_col5 {\n",
              "  background-color: #97b8ff;\n",
              "  color: #000000;\n",
              "}\n",
              "#T_f59f4_row8_col1 {\n",
              "  background-color: #cbd8ee;\n",
              "  color: #000000;\n",
              "}\n",
              "#T_f59f4_row8_col2 {\n",
              "  background-color: #4257c9;\n",
              "  color: #f1f1f1;\n",
              "}\n",
              "#T_f59f4_row8_col4 {\n",
              "  background-color: #779af7;\n",
              "  color: #f1f1f1;\n",
              "}\n",
              "#T_f59f4_row8_col6 {\n",
              "  background-color: #7b9ff9;\n",
              "  color: #f1f1f1;\n",
              "}\n",
              "#T_f59f4_row8_col7 {\n",
              "  background-color: #a3c2fe;\n",
              "  color: #000000;\n",
              "}\n",
              "</style>\n",
              "<table id=\"T_f59f4\" class=\"dataframe\">\n",
              "  <thead>\n",
              "    <tr>\n",
              "      <th class=\"blank level0\" >&nbsp;</th>\n",
              "      <th id=\"T_f59f4_level0_col0\" class=\"col_heading level0 col0\" >Pregnancies</th>\n",
              "      <th id=\"T_f59f4_level0_col1\" class=\"col_heading level0 col1\" >Glucose</th>\n",
              "      <th id=\"T_f59f4_level0_col2\" class=\"col_heading level0 col2\" >BloodPressure</th>\n",
              "      <th id=\"T_f59f4_level0_col3\" class=\"col_heading level0 col3\" >SkinThickness</th>\n",
              "      <th id=\"T_f59f4_level0_col4\" class=\"col_heading level0 col4\" >Insulin</th>\n",
              "      <th id=\"T_f59f4_level0_col5\" class=\"col_heading level0 col5\" >BMI</th>\n",
              "      <th id=\"T_f59f4_level0_col6\" class=\"col_heading level0 col6\" >DiabetesPedigreeFunction</th>\n",
              "      <th id=\"T_f59f4_level0_col7\" class=\"col_heading level0 col7\" >Age</th>\n",
              "      <th id=\"T_f59f4_level0_col8\" class=\"col_heading level0 col8\" >Outcome</th>\n",
              "    </tr>\n",
              "  </thead>\n",
              "  <tbody>\n",
              "    <tr>\n",
              "      <th id=\"T_f59f4_level0_row0\" class=\"row_heading level0 row0\" >Pregnancies</th>\n",
              "      <td id=\"T_f59f4_row0_col0\" class=\"data row0 col0\" >1.000000</td>\n",
              "      <td id=\"T_f59f4_row0_col1\" class=\"data row0 col1\" >0.129459</td>\n",
              "      <td id=\"T_f59f4_row0_col2\" class=\"data row0 col2\" >0.141282</td>\n",
              "      <td id=\"T_f59f4_row0_col3\" class=\"data row0 col3\" >-0.081672</td>\n",
              "      <td id=\"T_f59f4_row0_col4\" class=\"data row0 col4\" >-0.073535</td>\n",
              "      <td id=\"T_f59f4_row0_col5\" class=\"data row0 col5\" >0.017683</td>\n",
              "      <td id=\"T_f59f4_row0_col6\" class=\"data row0 col6\" >-0.033523</td>\n",
              "      <td id=\"T_f59f4_row0_col7\" class=\"data row0 col7\" >0.544341</td>\n",
              "      <td id=\"T_f59f4_row0_col8\" class=\"data row0 col8\" >0.221898</td>\n",
              "    </tr>\n",
              "    <tr>\n",
              "      <th id=\"T_f59f4_level0_row1\" class=\"row_heading level0 row1\" >Glucose</th>\n",
              "      <td id=\"T_f59f4_row1_col0\" class=\"data row1 col0\" >0.129459</td>\n",
              "      <td id=\"T_f59f4_row1_col1\" class=\"data row1 col1\" >1.000000</td>\n",
              "      <td id=\"T_f59f4_row1_col2\" class=\"data row1 col2\" >0.152590</td>\n",
              "      <td id=\"T_f59f4_row1_col3\" class=\"data row1 col3\" >0.057328</td>\n",
              "      <td id=\"T_f59f4_row1_col4\" class=\"data row1 col4\" >0.331357</td>\n",
              "      <td id=\"T_f59f4_row1_col5\" class=\"data row1 col5\" >0.221071</td>\n",
              "      <td id=\"T_f59f4_row1_col6\" class=\"data row1 col6\" >0.137337</td>\n",
              "      <td id=\"T_f59f4_row1_col7\" class=\"data row1 col7\" >0.263514</td>\n",
              "      <td id=\"T_f59f4_row1_col8\" class=\"data row1 col8\" >0.466581</td>\n",
              "    </tr>\n",
              "    <tr>\n",
              "      <th id=\"T_f59f4_level0_row2\" class=\"row_heading level0 row2\" >BloodPressure</th>\n",
              "      <td id=\"T_f59f4_row2_col0\" class=\"data row2 col0\" >0.141282</td>\n",
              "      <td id=\"T_f59f4_row2_col1\" class=\"data row2 col1\" >0.152590</td>\n",
              "      <td id=\"T_f59f4_row2_col2\" class=\"data row2 col2\" >1.000000</td>\n",
              "      <td id=\"T_f59f4_row2_col3\" class=\"data row2 col3\" >0.207371</td>\n",
              "      <td id=\"T_f59f4_row2_col4\" class=\"data row2 col4\" >0.088933</td>\n",
              "      <td id=\"T_f59f4_row2_col5\" class=\"data row2 col5\" >0.281805</td>\n",
              "      <td id=\"T_f59f4_row2_col6\" class=\"data row2 col6\" >0.041265</td>\n",
              "      <td id=\"T_f59f4_row2_col7\" class=\"data row2 col7\" >0.239528</td>\n",
              "      <td id=\"T_f59f4_row2_col8\" class=\"data row2 col8\" >0.065068</td>\n",
              "    </tr>\n",
              "    <tr>\n",
              "      <th id=\"T_f59f4_level0_row3\" class=\"row_heading level0 row3\" >SkinThickness</th>\n",
              "      <td id=\"T_f59f4_row3_col0\" class=\"data row3 col0\" >-0.081672</td>\n",
              "      <td id=\"T_f59f4_row3_col1\" class=\"data row3 col1\" >0.057328</td>\n",
              "      <td id=\"T_f59f4_row3_col2\" class=\"data row3 col2\" >0.207371</td>\n",
              "      <td id=\"T_f59f4_row3_col3\" class=\"data row3 col3\" >1.000000</td>\n",
              "      <td id=\"T_f59f4_row3_col4\" class=\"data row3 col4\" >0.436783</td>\n",
              "      <td id=\"T_f59f4_row3_col5\" class=\"data row3 col5\" >0.392573</td>\n",
              "      <td id=\"T_f59f4_row3_col6\" class=\"data row3 col6\" >0.183928</td>\n",
              "      <td id=\"T_f59f4_row3_col7\" class=\"data row3 col7\" >-0.113970</td>\n",
              "      <td id=\"T_f59f4_row3_col8\" class=\"data row3 col8\" >0.074752</td>\n",
              "    </tr>\n",
              "    <tr>\n",
              "      <th id=\"T_f59f4_level0_row4\" class=\"row_heading level0 row4\" >Insulin</th>\n",
              "      <td id=\"T_f59f4_row4_col0\" class=\"data row4 col0\" >-0.073535</td>\n",
              "      <td id=\"T_f59f4_row4_col1\" class=\"data row4 col1\" >0.331357</td>\n",
              "      <td id=\"T_f59f4_row4_col2\" class=\"data row4 col2\" >0.088933</td>\n",
              "      <td id=\"T_f59f4_row4_col3\" class=\"data row4 col3\" >0.436783</td>\n",
              "      <td id=\"T_f59f4_row4_col4\" class=\"data row4 col4\" >1.000000</td>\n",
              "      <td id=\"T_f59f4_row4_col5\" class=\"data row4 col5\" >0.197859</td>\n",
              "      <td id=\"T_f59f4_row4_col6\" class=\"data row4 col6\" >0.185071</td>\n",
              "      <td id=\"T_f59f4_row4_col7\" class=\"data row4 col7\" >-0.042163</td>\n",
              "      <td id=\"T_f59f4_row4_col8\" class=\"data row4 col8\" >0.130548</td>\n",
              "    </tr>\n",
              "    <tr>\n",
              "      <th id=\"T_f59f4_level0_row5\" class=\"row_heading level0 row5\" >BMI</th>\n",
              "      <td id=\"T_f59f4_row5_col0\" class=\"data row5 col0\" >0.017683</td>\n",
              "      <td id=\"T_f59f4_row5_col1\" class=\"data row5 col1\" >0.221071</td>\n",
              "      <td id=\"T_f59f4_row5_col2\" class=\"data row5 col2\" >0.281805</td>\n",
              "      <td id=\"T_f59f4_row5_col3\" class=\"data row5 col3\" >0.392573</td>\n",
              "      <td id=\"T_f59f4_row5_col4\" class=\"data row5 col4\" >0.197859</td>\n",
              "      <td id=\"T_f59f4_row5_col5\" class=\"data row5 col5\" >1.000000</td>\n",
              "      <td id=\"T_f59f4_row5_col6\" class=\"data row5 col6\" >0.140647</td>\n",
              "      <td id=\"T_f59f4_row5_col7\" class=\"data row5 col7\" >0.036242</td>\n",
              "      <td id=\"T_f59f4_row5_col8\" class=\"data row5 col8\" >0.292695</td>\n",
              "    </tr>\n",
              "    <tr>\n",
              "      <th id=\"T_f59f4_level0_row6\" class=\"row_heading level0 row6\" >DiabetesPedigreeFunction</th>\n",
              "      <td id=\"T_f59f4_row6_col0\" class=\"data row6 col0\" >-0.033523</td>\n",
              "      <td id=\"T_f59f4_row6_col1\" class=\"data row6 col1\" >0.137337</td>\n",
              "      <td id=\"T_f59f4_row6_col2\" class=\"data row6 col2\" >0.041265</td>\n",
              "      <td id=\"T_f59f4_row6_col3\" class=\"data row6 col3\" >0.183928</td>\n",
              "      <td id=\"T_f59f4_row6_col4\" class=\"data row6 col4\" >0.185071</td>\n",
              "      <td id=\"T_f59f4_row6_col5\" class=\"data row6 col5\" >0.140647</td>\n",
              "      <td id=\"T_f59f4_row6_col6\" class=\"data row6 col6\" >1.000000</td>\n",
              "      <td id=\"T_f59f4_row6_col7\" class=\"data row6 col7\" >0.033561</td>\n",
              "      <td id=\"T_f59f4_row6_col8\" class=\"data row6 col8\" >0.173844</td>\n",
              "    </tr>\n",
              "    <tr>\n",
              "      <th id=\"T_f59f4_level0_row7\" class=\"row_heading level0 row7\" >Age</th>\n",
              "      <td id=\"T_f59f4_row7_col0\" class=\"data row7 col0\" >0.544341</td>\n",
              "      <td id=\"T_f59f4_row7_col1\" class=\"data row7 col1\" >0.263514</td>\n",
              "      <td id=\"T_f59f4_row7_col2\" class=\"data row7 col2\" >0.239528</td>\n",
              "      <td id=\"T_f59f4_row7_col3\" class=\"data row7 col3\" >-0.113970</td>\n",
              "      <td id=\"T_f59f4_row7_col4\" class=\"data row7 col4\" >-0.042163</td>\n",
              "      <td id=\"T_f59f4_row7_col5\" class=\"data row7 col5\" >0.036242</td>\n",
              "      <td id=\"T_f59f4_row7_col6\" class=\"data row7 col6\" >0.033561</td>\n",
              "      <td id=\"T_f59f4_row7_col7\" class=\"data row7 col7\" >1.000000</td>\n",
              "      <td id=\"T_f59f4_row7_col8\" class=\"data row7 col8\" >0.238356</td>\n",
              "    </tr>\n",
              "    <tr>\n",
              "      <th id=\"T_f59f4_level0_row8\" class=\"row_heading level0 row8\" >Outcome</th>\n",
              "      <td id=\"T_f59f4_row8_col0\" class=\"data row8 col0\" >0.221898</td>\n",
              "      <td id=\"T_f59f4_row8_col1\" class=\"data row8 col1\" >0.466581</td>\n",
              "      <td id=\"T_f59f4_row8_col2\" class=\"data row8 col2\" >0.065068</td>\n",
              "      <td id=\"T_f59f4_row8_col3\" class=\"data row8 col3\" >0.074752</td>\n",
              "      <td id=\"T_f59f4_row8_col4\" class=\"data row8 col4\" >0.130548</td>\n",
              "      <td id=\"T_f59f4_row8_col5\" class=\"data row8 col5\" >0.292695</td>\n",
              "      <td id=\"T_f59f4_row8_col6\" class=\"data row8 col6\" >0.173844</td>\n",
              "      <td id=\"T_f59f4_row8_col7\" class=\"data row8 col7\" >0.238356</td>\n",
              "      <td id=\"T_f59f4_row8_col8\" class=\"data row8 col8\" >1.000000</td>\n",
              "    </tr>\n",
              "  </tbody>\n",
              "</table>\n"
            ]
          },
          "metadata": {},
          "execution_count": 9
        }
      ]
    },
    {
      "cell_type": "code",
      "source": [
        "# Revisamos las estadisticas del Dataset\n",
        "df.describe()"
      ],
      "metadata": {
        "colab": {
          "base_uri": "https://localhost:8080/",
          "height": 300
        },
        "id": "RCW5rQWH2GMI",
        "outputId": "0bdf0959-3471-48bf-827f-985b37edbab5"
      },
      "execution_count": null,
      "outputs": [
        {
          "output_type": "execute_result",
          "data": {
            "text/plain": [
              "       Pregnancies     Glucose  BloodPressure  SkinThickness     Insulin  \\\n",
              "count   768.000000  768.000000     768.000000     768.000000  768.000000   \n",
              "mean      3.845052  120.894531      69.105469      20.536458   79.799479   \n",
              "std       3.369578   31.972618      19.355807      15.952218  115.244002   \n",
              "min       0.000000    0.000000       0.000000       0.000000    0.000000   \n",
              "25%       1.000000   99.000000      62.000000       0.000000    0.000000   \n",
              "50%       3.000000  117.000000      72.000000      23.000000   30.500000   \n",
              "75%       6.000000  140.250000      80.000000      32.000000  127.250000   \n",
              "max      17.000000  199.000000     122.000000      99.000000  846.000000   \n",
              "\n",
              "              BMI  DiabetesPedigreeFunction         Age     Outcome  \n",
              "count  768.000000                768.000000  768.000000  768.000000  \n",
              "mean    31.992578                  0.471876   33.240885    0.348958  \n",
              "std      7.884160                  0.331329   11.760232    0.476951  \n",
              "min      0.000000                  0.078000   21.000000    0.000000  \n",
              "25%     27.300000                  0.243750   24.000000    0.000000  \n",
              "50%     32.000000                  0.372500   29.000000    0.000000  \n",
              "75%     36.600000                  0.626250   41.000000    1.000000  \n",
              "max     67.100000                  2.420000   81.000000    1.000000  "
            ],
            "text/html": [
              "\n",
              "  <div id=\"df-5027c694-4123-4d87-b0e3-d3695fcc399d\" class=\"colab-df-container\">\n",
              "    <div>\n",
              "<style scoped>\n",
              "    .dataframe tbody tr th:only-of-type {\n",
              "        vertical-align: middle;\n",
              "    }\n",
              "\n",
              "    .dataframe tbody tr th {\n",
              "        vertical-align: top;\n",
              "    }\n",
              "\n",
              "    .dataframe thead th {\n",
              "        text-align: right;\n",
              "    }\n",
              "</style>\n",
              "<table border=\"1\" class=\"dataframe\">\n",
              "  <thead>\n",
              "    <tr style=\"text-align: right;\">\n",
              "      <th></th>\n",
              "      <th>Pregnancies</th>\n",
              "      <th>Glucose</th>\n",
              "      <th>BloodPressure</th>\n",
              "      <th>SkinThickness</th>\n",
              "      <th>Insulin</th>\n",
              "      <th>BMI</th>\n",
              "      <th>DiabetesPedigreeFunction</th>\n",
              "      <th>Age</th>\n",
              "      <th>Outcome</th>\n",
              "    </tr>\n",
              "  </thead>\n",
              "  <tbody>\n",
              "    <tr>\n",
              "      <th>count</th>\n",
              "      <td>768.000000</td>\n",
              "      <td>768.000000</td>\n",
              "      <td>768.000000</td>\n",
              "      <td>768.000000</td>\n",
              "      <td>768.000000</td>\n",
              "      <td>768.000000</td>\n",
              "      <td>768.000000</td>\n",
              "      <td>768.000000</td>\n",
              "      <td>768.000000</td>\n",
              "    </tr>\n",
              "    <tr>\n",
              "      <th>mean</th>\n",
              "      <td>3.845052</td>\n",
              "      <td>120.894531</td>\n",
              "      <td>69.105469</td>\n",
              "      <td>20.536458</td>\n",
              "      <td>79.799479</td>\n",
              "      <td>31.992578</td>\n",
              "      <td>0.471876</td>\n",
              "      <td>33.240885</td>\n",
              "      <td>0.348958</td>\n",
              "    </tr>\n",
              "    <tr>\n",
              "      <th>std</th>\n",
              "      <td>3.369578</td>\n",
              "      <td>31.972618</td>\n",
              "      <td>19.355807</td>\n",
              "      <td>15.952218</td>\n",
              "      <td>115.244002</td>\n",
              "      <td>7.884160</td>\n",
              "      <td>0.331329</td>\n",
              "      <td>11.760232</td>\n",
              "      <td>0.476951</td>\n",
              "    </tr>\n",
              "    <tr>\n",
              "      <th>min</th>\n",
              "      <td>0.000000</td>\n",
              "      <td>0.000000</td>\n",
              "      <td>0.000000</td>\n",
              "      <td>0.000000</td>\n",
              "      <td>0.000000</td>\n",
              "      <td>0.000000</td>\n",
              "      <td>0.078000</td>\n",
              "      <td>21.000000</td>\n",
              "      <td>0.000000</td>\n",
              "    </tr>\n",
              "    <tr>\n",
              "      <th>25%</th>\n",
              "      <td>1.000000</td>\n",
              "      <td>99.000000</td>\n",
              "      <td>62.000000</td>\n",
              "      <td>0.000000</td>\n",
              "      <td>0.000000</td>\n",
              "      <td>27.300000</td>\n",
              "      <td>0.243750</td>\n",
              "      <td>24.000000</td>\n",
              "      <td>0.000000</td>\n",
              "    </tr>\n",
              "    <tr>\n",
              "      <th>50%</th>\n",
              "      <td>3.000000</td>\n",
              "      <td>117.000000</td>\n",
              "      <td>72.000000</td>\n",
              "      <td>23.000000</td>\n",
              "      <td>30.500000</td>\n",
              "      <td>32.000000</td>\n",
              "      <td>0.372500</td>\n",
              "      <td>29.000000</td>\n",
              "      <td>0.000000</td>\n",
              "    </tr>\n",
              "    <tr>\n",
              "      <th>75%</th>\n",
              "      <td>6.000000</td>\n",
              "      <td>140.250000</td>\n",
              "      <td>80.000000</td>\n",
              "      <td>32.000000</td>\n",
              "      <td>127.250000</td>\n",
              "      <td>36.600000</td>\n",
              "      <td>0.626250</td>\n",
              "      <td>41.000000</td>\n",
              "      <td>1.000000</td>\n",
              "    </tr>\n",
              "    <tr>\n",
              "      <th>max</th>\n",
              "      <td>17.000000</td>\n",
              "      <td>199.000000</td>\n",
              "      <td>122.000000</td>\n",
              "      <td>99.000000</td>\n",
              "      <td>846.000000</td>\n",
              "      <td>67.100000</td>\n",
              "      <td>2.420000</td>\n",
              "      <td>81.000000</td>\n",
              "      <td>1.000000</td>\n",
              "    </tr>\n",
              "  </tbody>\n",
              "</table>\n",
              "</div>\n",
              "    <div class=\"colab-df-buttons\">\n",
              "\n",
              "  <div class=\"colab-df-container\">\n",
              "    <button class=\"colab-df-convert\" onclick=\"convertToInteractive('df-5027c694-4123-4d87-b0e3-d3695fcc399d')\"\n",
              "            title=\"Convert this dataframe to an interactive table.\"\n",
              "            style=\"display:none;\">\n",
              "\n",
              "  <svg xmlns=\"http://www.w3.org/2000/svg\" height=\"24px\" viewBox=\"0 -960 960 960\">\n",
              "    <path d=\"M120-120v-720h720v720H120Zm60-500h600v-160H180v160Zm220 220h160v-160H400v160Zm0 220h160v-160H400v160ZM180-400h160v-160H180v160Zm440 0h160v-160H620v160ZM180-180h160v-160H180v160Zm440 0h160v-160H620v160Z\"/>\n",
              "  </svg>\n",
              "    </button>\n",
              "\n",
              "  <style>\n",
              "    .colab-df-container {\n",
              "      display:flex;\n",
              "      gap: 12px;\n",
              "    }\n",
              "\n",
              "    .colab-df-convert {\n",
              "      background-color: #E8F0FE;\n",
              "      border: none;\n",
              "      border-radius: 50%;\n",
              "      cursor: pointer;\n",
              "      display: none;\n",
              "      fill: #1967D2;\n",
              "      height: 32px;\n",
              "      padding: 0 0 0 0;\n",
              "      width: 32px;\n",
              "    }\n",
              "\n",
              "    .colab-df-convert:hover {\n",
              "      background-color: #E2EBFA;\n",
              "      box-shadow: 0px 1px 2px rgba(60, 64, 67, 0.3), 0px 1px 3px 1px rgba(60, 64, 67, 0.15);\n",
              "      fill: #174EA6;\n",
              "    }\n",
              "\n",
              "    .colab-df-buttons div {\n",
              "      margin-bottom: 4px;\n",
              "    }\n",
              "\n",
              "    [theme=dark] .colab-df-convert {\n",
              "      background-color: #3B4455;\n",
              "      fill: #D2E3FC;\n",
              "    }\n",
              "\n",
              "    [theme=dark] .colab-df-convert:hover {\n",
              "      background-color: #434B5C;\n",
              "      box-shadow: 0px 1px 3px 1px rgba(0, 0, 0, 0.15);\n",
              "      filter: drop-shadow(0px 1px 2px rgba(0, 0, 0, 0.3));\n",
              "      fill: #FFFFFF;\n",
              "    }\n",
              "  </style>\n",
              "\n",
              "    <script>\n",
              "      const buttonEl =\n",
              "        document.querySelector('#df-5027c694-4123-4d87-b0e3-d3695fcc399d button.colab-df-convert');\n",
              "      buttonEl.style.display =\n",
              "        google.colab.kernel.accessAllowed ? 'block' : 'none';\n",
              "\n",
              "      async function convertToInteractive(key) {\n",
              "        const element = document.querySelector('#df-5027c694-4123-4d87-b0e3-d3695fcc399d');\n",
              "        const dataTable =\n",
              "          await google.colab.kernel.invokeFunction('convertToInteractive',\n",
              "                                                    [key], {});\n",
              "        if (!dataTable) return;\n",
              "\n",
              "        const docLinkHtml = 'Like what you see? Visit the ' +\n",
              "          '<a target=\"_blank\" href=https://colab.research.google.com/notebooks/data_table.ipynb>data table notebook</a>'\n",
              "          + ' to learn more about interactive tables.';\n",
              "        element.innerHTML = '';\n",
              "        dataTable['output_type'] = 'display_data';\n",
              "        await google.colab.output.renderOutput(dataTable, element);\n",
              "        const docLink = document.createElement('div');\n",
              "        docLink.innerHTML = docLinkHtml;\n",
              "        element.appendChild(docLink);\n",
              "      }\n",
              "    </script>\n",
              "  </div>\n",
              "\n",
              "\n",
              "<div id=\"df-f492a441-41a1-4a74-8869-ee8b73bc9457\">\n",
              "  <button class=\"colab-df-quickchart\" onclick=\"quickchart('df-f492a441-41a1-4a74-8869-ee8b73bc9457')\"\n",
              "            title=\"Suggest charts.\"\n",
              "            style=\"display:none;\">\n",
              "\n",
              "<svg xmlns=\"http://www.w3.org/2000/svg\" height=\"24px\"viewBox=\"0 0 24 24\"\n",
              "     width=\"24px\">\n",
              "    <g>\n",
              "        <path d=\"M19 3H5c-1.1 0-2 .9-2 2v14c0 1.1.9 2 2 2h14c1.1 0 2-.9 2-2V5c0-1.1-.9-2-2-2zM9 17H7v-7h2v7zm4 0h-2V7h2v10zm4 0h-2v-4h2v4z\"/>\n",
              "    </g>\n",
              "</svg>\n",
              "  </button>\n",
              "\n",
              "<style>\n",
              "  .colab-df-quickchart {\n",
              "      --bg-color: #E8F0FE;\n",
              "      --fill-color: #1967D2;\n",
              "      --hover-bg-color: #E2EBFA;\n",
              "      --hover-fill-color: #174EA6;\n",
              "      --disabled-fill-color: #AAA;\n",
              "      --disabled-bg-color: #DDD;\n",
              "  }\n",
              "\n",
              "  [theme=dark] .colab-df-quickchart {\n",
              "      --bg-color: #3B4455;\n",
              "      --fill-color: #D2E3FC;\n",
              "      --hover-bg-color: #434B5C;\n",
              "      --hover-fill-color: #FFFFFF;\n",
              "      --disabled-bg-color: #3B4455;\n",
              "      --disabled-fill-color: #666;\n",
              "  }\n",
              "\n",
              "  .colab-df-quickchart {\n",
              "    background-color: var(--bg-color);\n",
              "    border: none;\n",
              "    border-radius: 50%;\n",
              "    cursor: pointer;\n",
              "    display: none;\n",
              "    fill: var(--fill-color);\n",
              "    height: 32px;\n",
              "    padding: 0;\n",
              "    width: 32px;\n",
              "  }\n",
              "\n",
              "  .colab-df-quickchart:hover {\n",
              "    background-color: var(--hover-bg-color);\n",
              "    box-shadow: 0 1px 2px rgba(60, 64, 67, 0.3), 0 1px 3px 1px rgba(60, 64, 67, 0.15);\n",
              "    fill: var(--button-hover-fill-color);\n",
              "  }\n",
              "\n",
              "  .colab-df-quickchart-complete:disabled,\n",
              "  .colab-df-quickchart-complete:disabled:hover {\n",
              "    background-color: var(--disabled-bg-color);\n",
              "    fill: var(--disabled-fill-color);\n",
              "    box-shadow: none;\n",
              "  }\n",
              "\n",
              "  .colab-df-spinner {\n",
              "    border: 2px solid var(--fill-color);\n",
              "    border-color: transparent;\n",
              "    border-bottom-color: var(--fill-color);\n",
              "    animation:\n",
              "      spin 1s steps(1) infinite;\n",
              "  }\n",
              "\n",
              "  @keyframes spin {\n",
              "    0% {\n",
              "      border-color: transparent;\n",
              "      border-bottom-color: var(--fill-color);\n",
              "      border-left-color: var(--fill-color);\n",
              "    }\n",
              "    20% {\n",
              "      border-color: transparent;\n",
              "      border-left-color: var(--fill-color);\n",
              "      border-top-color: var(--fill-color);\n",
              "    }\n",
              "    30% {\n",
              "      border-color: transparent;\n",
              "      border-left-color: var(--fill-color);\n",
              "      border-top-color: var(--fill-color);\n",
              "      border-right-color: var(--fill-color);\n",
              "    }\n",
              "    40% {\n",
              "      border-color: transparent;\n",
              "      border-right-color: var(--fill-color);\n",
              "      border-top-color: var(--fill-color);\n",
              "    }\n",
              "    60% {\n",
              "      border-color: transparent;\n",
              "      border-right-color: var(--fill-color);\n",
              "    }\n",
              "    80% {\n",
              "      border-color: transparent;\n",
              "      border-right-color: var(--fill-color);\n",
              "      border-bottom-color: var(--fill-color);\n",
              "    }\n",
              "    90% {\n",
              "      border-color: transparent;\n",
              "      border-bottom-color: var(--fill-color);\n",
              "    }\n",
              "  }\n",
              "</style>\n",
              "\n",
              "  <script>\n",
              "    async function quickchart(key) {\n",
              "      const quickchartButtonEl =\n",
              "        document.querySelector('#' + key + ' button');\n",
              "      quickchartButtonEl.disabled = true;  // To prevent multiple clicks.\n",
              "      quickchartButtonEl.classList.add('colab-df-spinner');\n",
              "      try {\n",
              "        const charts = await google.colab.kernel.invokeFunction(\n",
              "            'suggestCharts', [key], {});\n",
              "      } catch (error) {\n",
              "        console.error('Error during call to suggestCharts:', error);\n",
              "      }\n",
              "      quickchartButtonEl.classList.remove('colab-df-spinner');\n",
              "      quickchartButtonEl.classList.add('colab-df-quickchart-complete');\n",
              "    }\n",
              "    (() => {\n",
              "      let quickchartButtonEl =\n",
              "        document.querySelector('#df-f492a441-41a1-4a74-8869-ee8b73bc9457 button');\n",
              "      quickchartButtonEl.style.display =\n",
              "        google.colab.kernel.accessAllowed ? 'block' : 'none';\n",
              "    })();\n",
              "  </script>\n",
              "</div>\n",
              "    </div>\n",
              "  </div>\n"
            ]
          },
          "metadata": {},
          "execution_count": 10
        }
      ]
    },
    {
      "cell_type": "code",
      "source": [
        "print(\"------------------------------------------------------\\n\")\n",
        "print(\"Original:\")\n",
        "print(f\"Total de 0 en Glucosa:\", df[df[\"Glucose\"]==0].shape[0])\n",
        "print(f\"Total de 0 en BloodPressure:\", df[df[\"BloodPressure\"]==0].shape[0])\n",
        "print(f\"Total de 0 en SkinThickness:\", df[df[\"SkinThickness\"]==0].shape[0])\n",
        "print(f\"Total de 0 en Insulin:\", df[df[\"Insulin\"]==0].shape[0])\n",
        "print(f\"Total de 0 en BMI:\", df[df[\"BMI\"]==0].shape[0], \"\\n\")\n",
        "print(\"------------------------------------------------------\")"
      ],
      "metadata": {
        "colab": {
          "base_uri": "https://localhost:8080/"
        },
        "id": "xa0VgSH7AmYf",
        "outputId": "b0cd20de-ba44-43e4-b50f-510be0a7c093"
      },
      "execution_count": null,
      "outputs": [
        {
          "output_type": "stream",
          "name": "stdout",
          "text": [
            "------------------------------------------------------\n",
            "\n",
            "Original:\n",
            "Total de 0 en Glucosa: 5\n",
            "Total de 0 en BloodPressure: 35\n",
            "Total de 0 en SkinThickness: 227\n",
            "Total de 0 en Insulin: 374\n",
            "Total de 0 en BMI: 11 \n",
            "\n",
            "------------------------------------------------------\n"
          ]
        }
      ]
    },
    {
      "cell_type": "code",
      "source": [
        "df[\"Glucose\"] = df[\"Glucose\"].replace(0, df['Glucose'].mean())\n",
        "df[\"BloodPressure\"] = df[\"BloodPressure\"].replace(0, df['BloodPressure'].mean())\n",
        "df[\"SkinThickness\"] = df[\"SkinThickness\"].replace(0, df['SkinThickness'].mean())\n",
        "df[\"Insulin\"] = df[\"Insulin\"].replace(0, df['Insulin'].mean())\n",
        "df[\"BMI\"] = df[\"BMI\"].replace(0, df['BMI'].mean())"
      ],
      "metadata": {
        "id": "xBs4nP-lDa6q"
      },
      "execution_count": null,
      "outputs": []
    },
    {
      "cell_type": "code",
      "source": [
        "print(\"------------------------------------------------------\\n\")\n",
        "print(\"Actualizado:\")\n",
        "print(f\"Total de valores 0 en Glucosa:\", df[df[\"Glucose\"]==0].shape[0])\n",
        "print(f\"Total de valores 0 en BloodPressure:\", df[df[\"BloodPressure\"]==0].shape[0])\n",
        "print(f\"Total de valores 0 en SkinThickness:\", df[df[\"SkinThickness\"]==0].shape[0])\n",
        "print(f\"Total de valores 0 en Insulin:\", df[df[\"Insulin\"]==0].shape[0])\n",
        "print(f\"Total de valores 0 en BMI:\", df[df[\"BMI\"]==0].shape[0], \"\\n\")\n",
        "print(\"------------------------------------------------------\")"
      ],
      "metadata": {
        "colab": {
          "base_uri": "https://localhost:8080/"
        },
        "id": "HDXZbIQlEwC-",
        "outputId": "85d21f5c-60a7-4dcc-b902-db25eb51bd3c"
      },
      "execution_count": null,
      "outputs": [
        {
          "output_type": "stream",
          "name": "stdout",
          "text": [
            "------------------------------------------------------\n",
            "\n",
            "Actualizado:\n",
            "Total de valores 0 en Glucosa: 0\n",
            "Total de valores 0 en BloodPressure: 0\n",
            "Total de valores 0 en SkinThickness: 0\n",
            "Total de valores 0 en Insulin: 0\n",
            "Total de valores 0 en BMI: 0 \n",
            "\n",
            "------------------------------------------------------\n"
          ]
        }
      ]
    },
    {
      "cell_type": "code",
      "source": [
        "# Revisamos nuevamente las estadisticas del Dataset con los cambios realizados\n",
        "df.describe()"
      ],
      "metadata": {
        "colab": {
          "base_uri": "https://localhost:8080/",
          "height": 300
        },
        "id": "0HBPt8zGD1Z-",
        "outputId": "8602e0e5-1481-4c6f-c29d-bdf72051e0d3"
      },
      "execution_count": null,
      "outputs": [
        {
          "output_type": "execute_result",
          "data": {
            "text/plain": [
              "       Pregnancies     Glucose  BloodPressure  SkinThickness     Insulin  \\\n",
              "count   768.000000  768.000000     768.000000     768.000000  768.000000   \n",
              "mean      3.845052  121.681605      72.254807      26.606479  118.660163   \n",
              "std       3.369578   30.436016      12.115932       9.631241   93.080358   \n",
              "min       0.000000   44.000000      24.000000       7.000000   14.000000   \n",
              "25%       1.000000   99.750000      64.000000      20.536458   79.799479   \n",
              "50%       3.000000  117.000000      72.000000      23.000000   79.799479   \n",
              "75%       6.000000  140.250000      80.000000      32.000000  127.250000   \n",
              "max      17.000000  199.000000     122.000000      99.000000  846.000000   \n",
              "\n",
              "              BMI  DiabetesPedigreeFunction         Age     Outcome  \n",
              "count  768.000000                768.000000  768.000000  768.000000  \n",
              "mean    32.450805                  0.471876   33.240885    0.348958  \n",
              "std      6.875374                  0.331329   11.760232    0.476951  \n",
              "min     18.200000                  0.078000   21.000000    0.000000  \n",
              "25%     27.500000                  0.243750   24.000000    0.000000  \n",
              "50%     32.000000                  0.372500   29.000000    0.000000  \n",
              "75%     36.600000                  0.626250   41.000000    1.000000  \n",
              "max     67.100000                  2.420000   81.000000    1.000000  "
            ],
            "text/html": [
              "\n",
              "  <div id=\"df-4e033ff9-040d-49a9-941e-d739799b168c\" class=\"colab-df-container\">\n",
              "    <div>\n",
              "<style scoped>\n",
              "    .dataframe tbody tr th:only-of-type {\n",
              "        vertical-align: middle;\n",
              "    }\n",
              "\n",
              "    .dataframe tbody tr th {\n",
              "        vertical-align: top;\n",
              "    }\n",
              "\n",
              "    .dataframe thead th {\n",
              "        text-align: right;\n",
              "    }\n",
              "</style>\n",
              "<table border=\"1\" class=\"dataframe\">\n",
              "  <thead>\n",
              "    <tr style=\"text-align: right;\">\n",
              "      <th></th>\n",
              "      <th>Pregnancies</th>\n",
              "      <th>Glucose</th>\n",
              "      <th>BloodPressure</th>\n",
              "      <th>SkinThickness</th>\n",
              "      <th>Insulin</th>\n",
              "      <th>BMI</th>\n",
              "      <th>DiabetesPedigreeFunction</th>\n",
              "      <th>Age</th>\n",
              "      <th>Outcome</th>\n",
              "    </tr>\n",
              "  </thead>\n",
              "  <tbody>\n",
              "    <tr>\n",
              "      <th>count</th>\n",
              "      <td>768.000000</td>\n",
              "      <td>768.000000</td>\n",
              "      <td>768.000000</td>\n",
              "      <td>768.000000</td>\n",
              "      <td>768.000000</td>\n",
              "      <td>768.000000</td>\n",
              "      <td>768.000000</td>\n",
              "      <td>768.000000</td>\n",
              "      <td>768.000000</td>\n",
              "    </tr>\n",
              "    <tr>\n",
              "      <th>mean</th>\n",
              "      <td>3.845052</td>\n",
              "      <td>121.681605</td>\n",
              "      <td>72.254807</td>\n",
              "      <td>26.606479</td>\n",
              "      <td>118.660163</td>\n",
              "      <td>32.450805</td>\n",
              "      <td>0.471876</td>\n",
              "      <td>33.240885</td>\n",
              "      <td>0.348958</td>\n",
              "    </tr>\n",
              "    <tr>\n",
              "      <th>std</th>\n",
              "      <td>3.369578</td>\n",
              "      <td>30.436016</td>\n",
              "      <td>12.115932</td>\n",
              "      <td>9.631241</td>\n",
              "      <td>93.080358</td>\n",
              "      <td>6.875374</td>\n",
              "      <td>0.331329</td>\n",
              "      <td>11.760232</td>\n",
              "      <td>0.476951</td>\n",
              "    </tr>\n",
              "    <tr>\n",
              "      <th>min</th>\n",
              "      <td>0.000000</td>\n",
              "      <td>44.000000</td>\n",
              "      <td>24.000000</td>\n",
              "      <td>7.000000</td>\n",
              "      <td>14.000000</td>\n",
              "      <td>18.200000</td>\n",
              "      <td>0.078000</td>\n",
              "      <td>21.000000</td>\n",
              "      <td>0.000000</td>\n",
              "    </tr>\n",
              "    <tr>\n",
              "      <th>25%</th>\n",
              "      <td>1.000000</td>\n",
              "      <td>99.750000</td>\n",
              "      <td>64.000000</td>\n",
              "      <td>20.536458</td>\n",
              "      <td>79.799479</td>\n",
              "      <td>27.500000</td>\n",
              "      <td>0.243750</td>\n",
              "      <td>24.000000</td>\n",
              "      <td>0.000000</td>\n",
              "    </tr>\n",
              "    <tr>\n",
              "      <th>50%</th>\n",
              "      <td>3.000000</td>\n",
              "      <td>117.000000</td>\n",
              "      <td>72.000000</td>\n",
              "      <td>23.000000</td>\n",
              "      <td>79.799479</td>\n",
              "      <td>32.000000</td>\n",
              "      <td>0.372500</td>\n",
              "      <td>29.000000</td>\n",
              "      <td>0.000000</td>\n",
              "    </tr>\n",
              "    <tr>\n",
              "      <th>75%</th>\n",
              "      <td>6.000000</td>\n",
              "      <td>140.250000</td>\n",
              "      <td>80.000000</td>\n",
              "      <td>32.000000</td>\n",
              "      <td>127.250000</td>\n",
              "      <td>36.600000</td>\n",
              "      <td>0.626250</td>\n",
              "      <td>41.000000</td>\n",
              "      <td>1.000000</td>\n",
              "    </tr>\n",
              "    <tr>\n",
              "      <th>max</th>\n",
              "      <td>17.000000</td>\n",
              "      <td>199.000000</td>\n",
              "      <td>122.000000</td>\n",
              "      <td>99.000000</td>\n",
              "      <td>846.000000</td>\n",
              "      <td>67.100000</td>\n",
              "      <td>2.420000</td>\n",
              "      <td>81.000000</td>\n",
              "      <td>1.000000</td>\n",
              "    </tr>\n",
              "  </tbody>\n",
              "</table>\n",
              "</div>\n",
              "    <div class=\"colab-df-buttons\">\n",
              "\n",
              "  <div class=\"colab-df-container\">\n",
              "    <button class=\"colab-df-convert\" onclick=\"convertToInteractive('df-4e033ff9-040d-49a9-941e-d739799b168c')\"\n",
              "            title=\"Convert this dataframe to an interactive table.\"\n",
              "            style=\"display:none;\">\n",
              "\n",
              "  <svg xmlns=\"http://www.w3.org/2000/svg\" height=\"24px\" viewBox=\"0 -960 960 960\">\n",
              "    <path d=\"M120-120v-720h720v720H120Zm60-500h600v-160H180v160Zm220 220h160v-160H400v160Zm0 220h160v-160H400v160ZM180-400h160v-160H180v160Zm440 0h160v-160H620v160ZM180-180h160v-160H180v160Zm440 0h160v-160H620v160Z\"/>\n",
              "  </svg>\n",
              "    </button>\n",
              "\n",
              "  <style>\n",
              "    .colab-df-container {\n",
              "      display:flex;\n",
              "      gap: 12px;\n",
              "    }\n",
              "\n",
              "    .colab-df-convert {\n",
              "      background-color: #E8F0FE;\n",
              "      border: none;\n",
              "      border-radius: 50%;\n",
              "      cursor: pointer;\n",
              "      display: none;\n",
              "      fill: #1967D2;\n",
              "      height: 32px;\n",
              "      padding: 0 0 0 0;\n",
              "      width: 32px;\n",
              "    }\n",
              "\n",
              "    .colab-df-convert:hover {\n",
              "      background-color: #E2EBFA;\n",
              "      box-shadow: 0px 1px 2px rgba(60, 64, 67, 0.3), 0px 1px 3px 1px rgba(60, 64, 67, 0.15);\n",
              "      fill: #174EA6;\n",
              "    }\n",
              "\n",
              "    .colab-df-buttons div {\n",
              "      margin-bottom: 4px;\n",
              "    }\n",
              "\n",
              "    [theme=dark] .colab-df-convert {\n",
              "      background-color: #3B4455;\n",
              "      fill: #D2E3FC;\n",
              "    }\n",
              "\n",
              "    [theme=dark] .colab-df-convert:hover {\n",
              "      background-color: #434B5C;\n",
              "      box-shadow: 0px 1px 3px 1px rgba(0, 0, 0, 0.15);\n",
              "      filter: drop-shadow(0px 1px 2px rgba(0, 0, 0, 0.3));\n",
              "      fill: #FFFFFF;\n",
              "    }\n",
              "  </style>\n",
              "\n",
              "    <script>\n",
              "      const buttonEl =\n",
              "        document.querySelector('#df-4e033ff9-040d-49a9-941e-d739799b168c button.colab-df-convert');\n",
              "      buttonEl.style.display =\n",
              "        google.colab.kernel.accessAllowed ? 'block' : 'none';\n",
              "\n",
              "      async function convertToInteractive(key) {\n",
              "        const element = document.querySelector('#df-4e033ff9-040d-49a9-941e-d739799b168c');\n",
              "        const dataTable =\n",
              "          await google.colab.kernel.invokeFunction('convertToInteractive',\n",
              "                                                    [key], {});\n",
              "        if (!dataTable) return;\n",
              "\n",
              "        const docLinkHtml = 'Like what you see? Visit the ' +\n",
              "          '<a target=\"_blank\" href=https://colab.research.google.com/notebooks/data_table.ipynb>data table notebook</a>'\n",
              "          + ' to learn more about interactive tables.';\n",
              "        element.innerHTML = '';\n",
              "        dataTable['output_type'] = 'display_data';\n",
              "        await google.colab.output.renderOutput(dataTable, element);\n",
              "        const docLink = document.createElement('div');\n",
              "        docLink.innerHTML = docLinkHtml;\n",
              "        element.appendChild(docLink);\n",
              "      }\n",
              "    </script>\n",
              "  </div>\n",
              "\n",
              "\n",
              "<div id=\"df-bd290815-3793-4b97-8e65-01fe674b9edb\">\n",
              "  <button class=\"colab-df-quickchart\" onclick=\"quickchart('df-bd290815-3793-4b97-8e65-01fe674b9edb')\"\n",
              "            title=\"Suggest charts.\"\n",
              "            style=\"display:none;\">\n",
              "\n",
              "<svg xmlns=\"http://www.w3.org/2000/svg\" height=\"24px\"viewBox=\"0 0 24 24\"\n",
              "     width=\"24px\">\n",
              "    <g>\n",
              "        <path d=\"M19 3H5c-1.1 0-2 .9-2 2v14c0 1.1.9 2 2 2h14c1.1 0 2-.9 2-2V5c0-1.1-.9-2-2-2zM9 17H7v-7h2v7zm4 0h-2V7h2v10zm4 0h-2v-4h2v4z\"/>\n",
              "    </g>\n",
              "</svg>\n",
              "  </button>\n",
              "\n",
              "<style>\n",
              "  .colab-df-quickchart {\n",
              "      --bg-color: #E8F0FE;\n",
              "      --fill-color: #1967D2;\n",
              "      --hover-bg-color: #E2EBFA;\n",
              "      --hover-fill-color: #174EA6;\n",
              "      --disabled-fill-color: #AAA;\n",
              "      --disabled-bg-color: #DDD;\n",
              "  }\n",
              "\n",
              "  [theme=dark] .colab-df-quickchart {\n",
              "      --bg-color: #3B4455;\n",
              "      --fill-color: #D2E3FC;\n",
              "      --hover-bg-color: #434B5C;\n",
              "      --hover-fill-color: #FFFFFF;\n",
              "      --disabled-bg-color: #3B4455;\n",
              "      --disabled-fill-color: #666;\n",
              "  }\n",
              "\n",
              "  .colab-df-quickchart {\n",
              "    background-color: var(--bg-color);\n",
              "    border: none;\n",
              "    border-radius: 50%;\n",
              "    cursor: pointer;\n",
              "    display: none;\n",
              "    fill: var(--fill-color);\n",
              "    height: 32px;\n",
              "    padding: 0;\n",
              "    width: 32px;\n",
              "  }\n",
              "\n",
              "  .colab-df-quickchart:hover {\n",
              "    background-color: var(--hover-bg-color);\n",
              "    box-shadow: 0 1px 2px rgba(60, 64, 67, 0.3), 0 1px 3px 1px rgba(60, 64, 67, 0.15);\n",
              "    fill: var(--button-hover-fill-color);\n",
              "  }\n",
              "\n",
              "  .colab-df-quickchart-complete:disabled,\n",
              "  .colab-df-quickchart-complete:disabled:hover {\n",
              "    background-color: var(--disabled-bg-color);\n",
              "    fill: var(--disabled-fill-color);\n",
              "    box-shadow: none;\n",
              "  }\n",
              "\n",
              "  .colab-df-spinner {\n",
              "    border: 2px solid var(--fill-color);\n",
              "    border-color: transparent;\n",
              "    border-bottom-color: var(--fill-color);\n",
              "    animation:\n",
              "      spin 1s steps(1) infinite;\n",
              "  }\n",
              "\n",
              "  @keyframes spin {\n",
              "    0% {\n",
              "      border-color: transparent;\n",
              "      border-bottom-color: var(--fill-color);\n",
              "      border-left-color: var(--fill-color);\n",
              "    }\n",
              "    20% {\n",
              "      border-color: transparent;\n",
              "      border-left-color: var(--fill-color);\n",
              "      border-top-color: var(--fill-color);\n",
              "    }\n",
              "    30% {\n",
              "      border-color: transparent;\n",
              "      border-left-color: var(--fill-color);\n",
              "      border-top-color: var(--fill-color);\n",
              "      border-right-color: var(--fill-color);\n",
              "    }\n",
              "    40% {\n",
              "      border-color: transparent;\n",
              "      border-right-color: var(--fill-color);\n",
              "      border-top-color: var(--fill-color);\n",
              "    }\n",
              "    60% {\n",
              "      border-color: transparent;\n",
              "      border-right-color: var(--fill-color);\n",
              "    }\n",
              "    80% {\n",
              "      border-color: transparent;\n",
              "      border-right-color: var(--fill-color);\n",
              "      border-bottom-color: var(--fill-color);\n",
              "    }\n",
              "    90% {\n",
              "      border-color: transparent;\n",
              "      border-bottom-color: var(--fill-color);\n",
              "    }\n",
              "  }\n",
              "</style>\n",
              "\n",
              "  <script>\n",
              "    async function quickchart(key) {\n",
              "      const quickchartButtonEl =\n",
              "        document.querySelector('#' + key + ' button');\n",
              "      quickchartButtonEl.disabled = true;  // To prevent multiple clicks.\n",
              "      quickchartButtonEl.classList.add('colab-df-spinner');\n",
              "      try {\n",
              "        const charts = await google.colab.kernel.invokeFunction(\n",
              "            'suggestCharts', [key], {});\n",
              "      } catch (error) {\n",
              "        console.error('Error during call to suggestCharts:', error);\n",
              "      }\n",
              "      quickchartButtonEl.classList.remove('colab-df-spinner');\n",
              "      quickchartButtonEl.classList.add('colab-df-quickchart-complete');\n",
              "    }\n",
              "    (() => {\n",
              "      let quickchartButtonEl =\n",
              "        document.querySelector('#df-bd290815-3793-4b97-8e65-01fe674b9edb button');\n",
              "      quickchartButtonEl.style.display =\n",
              "        google.colab.kernel.accessAllowed ? 'block' : 'none';\n",
              "    })();\n",
              "  </script>\n",
              "</div>\n",
              "    </div>\n",
              "  </div>\n"
            ]
          },
          "metadata": {},
          "execution_count": 15
        }
      ]
    },
    {
      "cell_type": "code",
      "source": [
        "df['Pregnancies'].value_counts()"
      ],
      "metadata": {
        "colab": {
          "base_uri": "https://localhost:8080/"
        },
        "id": "oSPTrHqQUnhF",
        "outputId": "fd309dfb-511a-46ee-e929-c4ea032ac976"
      },
      "execution_count": null,
      "outputs": [
        {
          "output_type": "execute_result",
          "data": {
            "text/plain": [
              "1     135\n",
              "0     111\n",
              "2     103\n",
              "3      75\n",
              "4      68\n",
              "5      57\n",
              "6      50\n",
              "7      45\n",
              "8      38\n",
              "9      28\n",
              "10     24\n",
              "11     11\n",
              "13     10\n",
              "12      9\n",
              "14      2\n",
              "15      1\n",
              "17      1\n",
              "Name: Pregnancies, dtype: int64"
            ]
          },
          "metadata": {},
          "execution_count": 18
        }
      ]
    },
    {
      "cell_type": "code",
      "source": [
        "condicion = (df['Pregnancies'] == 14) | (df['Pregnancies'] == 15) | (df['Pregnancies'] == 17)\n",
        "\n",
        "df.drop(df[condicion].index, inplace=True)"
      ],
      "metadata": {
        "id": "QrB2TGkaV2zq"
      },
      "execution_count": null,
      "outputs": []
    },
    {
      "cell_type": "code",
      "source": [
        "df['Pregnancies'].value_counts()"
      ],
      "metadata": {
        "colab": {
          "base_uri": "https://localhost:8080/"
        },
        "id": "PtqfStoQ5OUH",
        "outputId": "b329f1db-d89a-4a01-df35-105c1b5491d0"
      },
      "execution_count": null,
      "outputs": [
        {
          "output_type": "execute_result",
          "data": {
            "text/plain": [
              "1     135\n",
              "0     111\n",
              "2     103\n",
              "3      75\n",
              "4      68\n",
              "5      57\n",
              "6      50\n",
              "7      45\n",
              "8      38\n",
              "9      28\n",
              "10     24\n",
              "11     11\n",
              "13     10\n",
              "12      9\n",
              "Name: Pregnancies, dtype: int64"
            ]
          },
          "metadata": {},
          "execution_count": 21
        }
      ]
    },
    {
      "cell_type": "code",
      "source": [
        "df['Pregnancies'].value_counts(normalize=True)"
      ],
      "metadata": {
        "colab": {
          "base_uri": "https://localhost:8080/"
        },
        "id": "dd1PdXzEWPGS",
        "outputId": "99b70728-4388-48b4-9bca-98e52d6f3409"
      },
      "execution_count": null,
      "outputs": [
        {
          "output_type": "execute_result",
          "data": {
            "text/plain": [
              "1     0.176702\n",
              "0     0.145288\n",
              "2     0.134817\n",
              "3     0.098168\n",
              "4     0.089005\n",
              "5     0.074607\n",
              "6     0.065445\n",
              "7     0.058901\n",
              "8     0.049738\n",
              "9     0.036649\n",
              "10    0.031414\n",
              "11    0.014398\n",
              "13    0.013089\n",
              "12    0.011780\n",
              "Name: Pregnancies, dtype: float64"
            ]
          },
          "metadata": {},
          "execution_count": 22
        }
      ]
    },
    {
      "cell_type": "code",
      "source": [
        "#Chequeamos si estos cambios tuvieron algun efecto en la correlacion de caracteristicas\n",
        "corr = df.corr()\n",
        "corr.style.background_gradient(cmap='coolwarm')"
      ],
      "metadata": {
        "colab": {
          "base_uri": "https://localhost:8080/",
          "height": 332
        },
        "id": "OFQkW9SRD7eq",
        "outputId": "4c6cc9f2-a5c1-4236-aad7-dd0dbad8d342"
      },
      "execution_count": null,
      "outputs": [
        {
          "output_type": "execute_result",
          "data": {
            "text/plain": [
              "<pandas.io.formats.style.Styler at 0x7d2e315a8dc0>"
            ],
            "text/html": [
              "<style type=\"text/css\">\n",
              "#T_fa571_row0_col0, #T_fa571_row1_col1, #T_fa571_row2_col2, #T_fa571_row3_col3, #T_fa571_row4_col4, #T_fa571_row5_col5, #T_fa571_row6_col6, #T_fa571_row7_col7, #T_fa571_row8_col8 {\n",
              "  background-color: #b40426;\n",
              "  color: #f1f1f1;\n",
              "}\n",
              "#T_fa571_row0_col1, #T_fa571_row0_col3, #T_fa571_row0_col4, #T_fa571_row0_col5, #T_fa571_row0_col6, #T_fa571_row2_col8, #T_fa571_row3_col7, #T_fa571_row5_col7, #T_fa571_row6_col0, #T_fa571_row6_col2 {\n",
              "  background-color: #3b4cc0;\n",
              "  color: #f1f1f1;\n",
              "}\n",
              "#T_fa571_row0_col2, #T_fa571_row8_col7 {\n",
              "  background-color: #81a4fb;\n",
              "  color: #f1f1f1;\n",
              "}\n",
              "#T_fa571_row0_col7 {\n",
              "  background-color: #e6d7cf;\n",
              "  color: #000000;\n",
              "}\n",
              "#T_fa571_row0_col8 {\n",
              "  background-color: #4961d2;\n",
              "  color: #f1f1f1;\n",
              "}\n",
              "#T_fa571_row1_col0, #T_fa571_row6_col5 {\n",
              "  background-color: #688aef;\n",
              "  color: #f1f1f1;\n",
              "}\n",
              "#T_fa571_row1_col2, #T_fa571_row1_col5 {\n",
              "  background-color: #84a7fc;\n",
              "  color: #f1f1f1;\n",
              "}\n",
              "#T_fa571_row1_col3 {\n",
              "  background-color: #6b8df0;\n",
              "  color: #f1f1f1;\n",
              "}\n",
              "#T_fa571_row1_col4 {\n",
              "  background-color: #c4d5f3;\n",
              "  color: #000000;\n",
              "}\n",
              "#T_fa571_row1_col6, #T_fa571_row7_col1, #T_fa571_row8_col2 {\n",
              "  background-color: #6f92f3;\n",
              "  color: #f1f1f1;\n",
              "}\n",
              "#T_fa571_row1_col7 {\n",
              "  background-color: #8caffe;\n",
              "  color: #000000;\n",
              "}\n",
              "#T_fa571_row1_col8 {\n",
              "  background-color: #bed2f6;\n",
              "  color: #000000;\n",
              "}\n",
              "#T_fa571_row2_col0, #T_fa571_row4_col3 {\n",
              "  background-color: #89acfd;\n",
              "  color: #000000;\n",
              "}\n",
              "#T_fa571_row2_col1 {\n",
              "  background-color: #5f7fe8;\n",
              "  color: #f1f1f1;\n",
              "}\n",
              "#T_fa571_row2_col3, #T_fa571_row3_col2 {\n",
              "  background-color: #6485ec;\n",
              "  color: #f1f1f1;\n",
              "}\n",
              "#T_fa571_row2_col4, #T_fa571_row2_col6 {\n",
              "  background-color: #4358cb;\n",
              "  color: #f1f1f1;\n",
              "}\n",
              "#T_fa571_row2_col5 {\n",
              "  background-color: #96b7ff;\n",
              "  color: #000000;\n",
              "}\n",
              "#T_fa571_row2_col7 {\n",
              "  background-color: #a2c1ff;\n",
              "  color: #000000;\n",
              "}\n",
              "#T_fa571_row3_col0 {\n",
              "  background-color: #445acc;\n",
              "  color: #f1f1f1;\n",
              "}\n",
              "#T_fa571_row3_col1 {\n",
              "  background-color: #485fd1;\n",
              "  color: #f1f1f1;\n",
              "}\n",
              "#T_fa571_row3_col4 {\n",
              "  background-color: #8fb1fe;\n",
              "  color: #000000;\n",
              "}\n",
              "#T_fa571_row3_col5 {\n",
              "  background-color: #e4d9d2;\n",
              "  color: #000000;\n",
              "}\n",
              "#T_fa571_row3_col6, #T_fa571_row4_col5 {\n",
              "  background-color: #7597f6;\n",
              "  color: #f1f1f1;\n",
              "}\n",
              "#T_fa571_row3_col8, #T_fa571_row4_col2 {\n",
              "  background-color: #3d50c3;\n",
              "  color: #f1f1f1;\n",
              "}\n",
              "#T_fa571_row4_col0, #T_fa571_row6_col7, #T_fa571_row6_col8, #T_fa571_row7_col5 {\n",
              "  background-color: #3e51c5;\n",
              "  color: #f1f1f1;\n",
              "}\n",
              "#T_fa571_row4_col1 {\n",
              "  background-color: #a5c3fe;\n",
              "  color: #000000;\n",
              "}\n",
              "#T_fa571_row4_col6 {\n",
              "  background-color: #7699f6;\n",
              "  color: #f1f1f1;\n",
              "}\n",
              "#T_fa571_row4_col7, #T_fa571_row4_col8 {\n",
              "  background-color: #3f53c6;\n",
              "  color: #f1f1f1;\n",
              "}\n",
              "#T_fa571_row5_col0 {\n",
              "  background-color: #465ecf;\n",
              "  color: #f1f1f1;\n",
              "}\n",
              "#T_fa571_row5_col1 {\n",
              "  background-color: #6282ea;\n",
              "  color: #f1f1f1;\n",
              "}\n",
              "#T_fa571_row5_col2 {\n",
              "  background-color: #98b9ff;\n",
              "  color: #000000;\n",
              "}\n",
              "#T_fa571_row5_col3 {\n",
              "  background-color: #e5d8d1;\n",
              "  color: #000000;\n",
              "}\n",
              "#T_fa571_row5_col4 {\n",
              "  background-color: #7da0f9;\n",
              "  color: #f1f1f1;\n",
              "}\n",
              "#T_fa571_row5_col6 {\n",
              "  background-color: #7396f5;\n",
              "  color: #f1f1f1;\n",
              "}\n",
              "#T_fa571_row5_col8, #T_fa571_row6_col4 {\n",
              "  background-color: #7295f4;\n",
              "  color: #f1f1f1;\n",
              "}\n",
              "#T_fa571_row6_col1, #T_fa571_row7_col3 {\n",
              "  background-color: #4055c8;\n",
              "  color: #f1f1f1;\n",
              "}\n",
              "#T_fa571_row6_col3 {\n",
              "  background-color: #6a8bef;\n",
              "  color: #f1f1f1;\n",
              "}\n",
              "#T_fa571_row7_col0 {\n",
              "  background-color: #ebd3c6;\n",
              "  color: #000000;\n",
              "}\n",
              "#T_fa571_row7_col2 {\n",
              "  background-color: #a7c5fe;\n",
              "  color: #000000;\n",
              "}\n",
              "#T_fa571_row7_col4 {\n",
              "  background-color: #4b64d5;\n",
              "  color: #f1f1f1;\n",
              "}\n",
              "#T_fa571_row7_col6 {\n",
              "  background-color: #4e68d8;\n",
              "  color: #f1f1f1;\n",
              "}\n",
              "#T_fa571_row7_col8 {\n",
              "  background-color: #5470de;\n",
              "  color: #f1f1f1;\n",
              "}\n",
              "#T_fa571_row8_col0 {\n",
              "  background-color: #85a8fc;\n",
              "  color: #f1f1f1;\n",
              "}\n",
              "#T_fa571_row8_col1 {\n",
              "  background-color: #c7d7f0;\n",
              "  color: #000000;\n",
              "}\n",
              "#T_fa571_row8_col3 {\n",
              "  background-color: #7093f3;\n",
              "  color: #f1f1f1;\n",
              "}\n",
              "#T_fa571_row8_col4 {\n",
              "  background-color: #799cf8;\n",
              "  color: #f1f1f1;\n",
              "}\n",
              "#T_fa571_row8_col5 {\n",
              "  background-color: #9fbfff;\n",
              "  color: #000000;\n",
              "}\n",
              "#T_fa571_row8_col6 {\n",
              "  background-color: #7b9ff9;\n",
              "  color: #f1f1f1;\n",
              "}\n",
              "</style>\n",
              "<table id=\"T_fa571\" class=\"dataframe\">\n",
              "  <thead>\n",
              "    <tr>\n",
              "      <th class=\"blank level0\" >&nbsp;</th>\n",
              "      <th id=\"T_fa571_level0_col0\" class=\"col_heading level0 col0\" >Pregnancies</th>\n",
              "      <th id=\"T_fa571_level0_col1\" class=\"col_heading level0 col1\" >Glucose</th>\n",
              "      <th id=\"T_fa571_level0_col2\" class=\"col_heading level0 col2\" >BloodPressure</th>\n",
              "      <th id=\"T_fa571_level0_col3\" class=\"col_heading level0 col3\" >SkinThickness</th>\n",
              "      <th id=\"T_fa571_level0_col4\" class=\"col_heading level0 col4\" >Insulin</th>\n",
              "      <th id=\"T_fa571_level0_col5\" class=\"col_heading level0 col5\" >BMI</th>\n",
              "      <th id=\"T_fa571_level0_col6\" class=\"col_heading level0 col6\" >DiabetesPedigreeFunction</th>\n",
              "      <th id=\"T_fa571_level0_col7\" class=\"col_heading level0 col7\" >Age</th>\n",
              "      <th id=\"T_fa571_level0_col8\" class=\"col_heading level0 col8\" >Outcome</th>\n",
              "    </tr>\n",
              "  </thead>\n",
              "  <tbody>\n",
              "    <tr>\n",
              "      <th id=\"T_fa571_level0_row0\" class=\"row_heading level0 row0\" >Pregnancies</th>\n",
              "      <td id=\"T_fa571_row0_col0\" class=\"data row0 col0\" >1.000000</td>\n",
              "      <td id=\"T_fa571_row0_col1\" class=\"data row0 col1\" >0.118805</td>\n",
              "      <td id=\"T_fa571_row0_col2\" class=\"data row0 col2\" >0.217935</td>\n",
              "      <td id=\"T_fa571_row0_col3\" class=\"data row0 col3\" >0.002656</td>\n",
              "      <td id=\"T_fa571_row0_col4\" class=\"data row0 col4\" >-0.019119</td>\n",
              "      <td id=\"T_fa571_row0_col5\" class=\"data row0 col5\" >0.009581</td>\n",
              "      <td id=\"T_fa571_row0_col6\" class=\"data row0 col6\" >-0.031852</td>\n",
              "      <td id=\"T_fa571_row0_col7\" class=\"data row0 col7\" >0.546169</td>\n",
              "      <td id=\"T_fa571_row0_col8\" class=\"data row0 col8\" >0.205240</td>\n",
              "    </tr>\n",
              "    <tr>\n",
              "      <th id=\"T_fa571_level0_row1\" class=\"row_heading level0 row1\" >Glucose</th>\n",
              "      <td id=\"T_fa571_row1_col0\" class=\"data row1 col0\" >0.118805</td>\n",
              "      <td id=\"T_fa571_row1_col1\" class=\"data row1 col1\" >1.000000</td>\n",
              "      <td id=\"T_fa571_row1_col2\" class=\"data row1 col2\" >0.223159</td>\n",
              "      <td id=\"T_fa571_row1_col3\" class=\"data row1 col3\" >0.157666</td>\n",
              "      <td id=\"T_fa571_row1_col4\" class=\"data row1 col4\" >0.400000</td>\n",
              "      <td id=\"T_fa571_row1_col5\" class=\"data row1 col5\" >0.230258</td>\n",
              "      <td id=\"T_fa571_row1_col6\" class=\"data row1 col6\" >0.138230</td>\n",
              "      <td id=\"T_fa571_row1_col7\" class=\"data row1 col7\" >0.265657</td>\n",
              "      <td id=\"T_fa571_row1_col8\" class=\"data row1 col8\" >0.491994</td>\n",
              "    </tr>\n",
              "    <tr>\n",
              "      <th id=\"T_fa571_level0_row2\" class=\"row_heading level0 row2\" >BloodPressure</th>\n",
              "      <td id=\"T_fa571_row2_col0\" class=\"data row2 col0\" >0.217935</td>\n",
              "      <td id=\"T_fa571_row2_col1\" class=\"data row2 col1\" >0.223159</td>\n",
              "      <td id=\"T_fa571_row2_col2\" class=\"data row2 col2\" >1.000000</td>\n",
              "      <td id=\"T_fa571_row2_col3\" class=\"data row2 col3\" >0.135151</td>\n",
              "      <td id=\"T_fa571_row2_col4\" class=\"data row2 col4\" >0.010018</td>\n",
              "      <td id=\"T_fa571_row2_col5\" class=\"data row2 col5\" >0.281858</td>\n",
              "      <td id=\"T_fa571_row2_col6\" class=\"data row2 col6\" >-0.000590</td>\n",
              "      <td id=\"T_fa571_row2_col7\" class=\"data row2 col7\" >0.327691</td>\n",
              "      <td id=\"T_fa571_row2_col8\" class=\"data row2 col8\" >0.164935</td>\n",
              "    </tr>\n",
              "    <tr>\n",
              "      <th id=\"T_fa571_level0_row3\" class=\"row_heading level0 row3\" >SkinThickness</th>\n",
              "      <td id=\"T_fa571_row3_col0\" class=\"data row3 col0\" >0.002656</td>\n",
              "      <td id=\"T_fa571_row3_col1\" class=\"data row3 col1\" >0.157666</td>\n",
              "      <td id=\"T_fa571_row3_col2\" class=\"data row3 col2\" >0.135151</td>\n",
              "      <td id=\"T_fa571_row3_col3\" class=\"data row3 col3\" >1.000000</td>\n",
              "      <td id=\"T_fa571_row3_col4\" class=\"data row3 col4\" >0.241403</td>\n",
              "      <td id=\"T_fa571_row3_col5\" class=\"data row3 col5\" >0.534628</td>\n",
              "      <td id=\"T_fa571_row3_col6\" class=\"data row3 col6\" >0.154499</td>\n",
              "      <td id=\"T_fa571_row3_col7\" class=\"data row3 col7\" >0.023669</td>\n",
              "      <td id=\"T_fa571_row3_col8\" class=\"data row3 col8\" >0.172164</td>\n",
              "    </tr>\n",
              "    <tr>\n",
              "      <th id=\"T_fa571_level0_row4\" class=\"row_heading level0 row4\" >Insulin</th>\n",
              "      <td id=\"T_fa571_row4_col0\" class=\"data row4 col0\" >-0.019119</td>\n",
              "      <td id=\"T_fa571_row4_col1\" class=\"data row4 col1\" >0.400000</td>\n",
              "      <td id=\"T_fa571_row4_col2\" class=\"data row4 col2\" >0.010018</td>\n",
              "      <td id=\"T_fa571_row4_col3\" class=\"data row4 col3\" >0.241403</td>\n",
              "      <td id=\"T_fa571_row4_col4\" class=\"data row4 col4\" >1.000000</td>\n",
              "      <td id=\"T_fa571_row4_col5\" class=\"data row4 col5\" >0.189933</td>\n",
              "      <td id=\"T_fa571_row4_col6\" class=\"data row4 col6\" >0.157839</td>\n",
              "      <td id=\"T_fa571_row4_col7\" class=\"data row4 col7\" >0.038158</td>\n",
              "      <td id=\"T_fa571_row4_col8\" class=\"data row4 col8\" >0.179892</td>\n",
              "    </tr>\n",
              "    <tr>\n",
              "      <th id=\"T_fa571_level0_row5\" class=\"row_heading level0 row5\" >BMI</th>\n",
              "      <td id=\"T_fa571_row5_col0\" class=\"data row5 col0\" >0.009581</td>\n",
              "      <td id=\"T_fa571_row5_col1\" class=\"data row5 col1\" >0.230258</td>\n",
              "      <td id=\"T_fa571_row5_col2\" class=\"data row5 col2\" >0.281858</td>\n",
              "      <td id=\"T_fa571_row5_col3\" class=\"data row5 col3\" >0.534628</td>\n",
              "      <td id=\"T_fa571_row5_col4\" class=\"data row5 col4\" >0.189933</td>\n",
              "      <td id=\"T_fa571_row5_col5\" class=\"data row5 col5\" >1.000000</td>\n",
              "      <td id=\"T_fa571_row5_col6\" class=\"data row5 col6\" >0.153508</td>\n",
              "      <td id=\"T_fa571_row5_col7\" class=\"data row5 col7\" >0.022268</td>\n",
              "      <td id=\"T_fa571_row5_col8\" class=\"data row5 col8\" >0.309458</td>\n",
              "    </tr>\n",
              "    <tr>\n",
              "      <th id=\"T_fa571_level0_row6\" class=\"row_heading level0 row6\" >DiabetesPedigreeFunction</th>\n",
              "      <td id=\"T_fa571_row6_col0\" class=\"data row6 col0\" >-0.031852</td>\n",
              "      <td id=\"T_fa571_row6_col1\" class=\"data row6 col1\" >0.138230</td>\n",
              "      <td id=\"T_fa571_row6_col2\" class=\"data row6 col2\" >-0.000590</td>\n",
              "      <td id=\"T_fa571_row6_col3\" class=\"data row6 col3\" >0.154499</td>\n",
              "      <td id=\"T_fa571_row6_col4\" class=\"data row6 col4\" >0.157839</td>\n",
              "      <td id=\"T_fa571_row6_col5\" class=\"data row6 col5\" >0.153508</td>\n",
              "      <td id=\"T_fa571_row6_col6\" class=\"data row6 col6\" >1.000000</td>\n",
              "      <td id=\"T_fa571_row6_col7\" class=\"data row6 col7\" >0.033822</td>\n",
              "      <td id=\"T_fa571_row6_col8\" class=\"data row6 col8\" >0.176598</td>\n",
              "    </tr>\n",
              "    <tr>\n",
              "      <th id=\"T_fa571_level0_row7\" class=\"row_heading level0 row7\" >Age</th>\n",
              "      <td id=\"T_fa571_row7_col0\" class=\"data row7 col0\" >0.546169</td>\n",
              "      <td id=\"T_fa571_row7_col1\" class=\"data row7 col1\" >0.265657</td>\n",
              "      <td id=\"T_fa571_row7_col2\" class=\"data row7 col2\" >0.327691</td>\n",
              "      <td id=\"T_fa571_row7_col3\" class=\"data row7 col3\" >0.023669</td>\n",
              "      <td id=\"T_fa571_row7_col4\" class=\"data row7 col4\" >0.038158</td>\n",
              "      <td id=\"T_fa571_row7_col5\" class=\"data row7 col5\" >0.022268</td>\n",
              "      <td id=\"T_fa571_row7_col6\" class=\"data row7 col6\" >0.033822</td>\n",
              "      <td id=\"T_fa571_row7_col7\" class=\"data row7 col7\" >1.000000</td>\n",
              "      <td id=\"T_fa571_row7_col8\" class=\"data row7 col8\" >0.233776</td>\n",
              "    </tr>\n",
              "    <tr>\n",
              "      <th id=\"T_fa571_level0_row8\" class=\"row_heading level0 row8\" >Outcome</th>\n",
              "      <td id=\"T_fa571_row8_col0\" class=\"data row8 col0\" >0.205240</td>\n",
              "      <td id=\"T_fa571_row8_col1\" class=\"data row8 col1\" >0.491994</td>\n",
              "      <td id=\"T_fa571_row8_col2\" class=\"data row8 col2\" >0.164935</td>\n",
              "      <td id=\"T_fa571_row8_col3\" class=\"data row8 col3\" >0.172164</td>\n",
              "      <td id=\"T_fa571_row8_col4\" class=\"data row8 col4\" >0.179892</td>\n",
              "      <td id=\"T_fa571_row8_col5\" class=\"data row8 col5\" >0.309458</td>\n",
              "      <td id=\"T_fa571_row8_col6\" class=\"data row8 col6\" >0.176598</td>\n",
              "      <td id=\"T_fa571_row8_col7\" class=\"data row8 col7\" >0.233776</td>\n",
              "      <td id=\"T_fa571_row8_col8\" class=\"data row8 col8\" >1.000000</td>\n",
              "    </tr>\n",
              "  </tbody>\n",
              "</table>\n"
            ]
          },
          "metadata": {},
          "execution_count": 23
        }
      ]
    },
    {
      "cell_type": "markdown",
      "source": [
        "**Conclusiones Intermedias**:\n",
        "- La correlacion indica mayor relacion de Outcome con Glucose\n",
        "- Varios niveles 0 en las columnas Glucose, BloodPressure, SkinThickness, Insulin y BMI los cuales estarian incorrectos.\n",
        "- Estos se corrigieron con la media de cada columna.\n",
        "- Una vez realizado el cambio de los valores 0 por las medias correspondientes de cada columna podemos ver que hubo un incremento en la relacion de cada caracteristica con la columna \"Outcome\"\n",
        "- Al ser pocas las filas con embarazos entre 2 y 1, estas fueron eliminadas."
      ],
      "metadata": {
        "id": "loF32_Vk9b6M"
      }
    },
    {
      "cell_type": "code",
      "source": [
        "# Histograma de frecuencias segun caracteristicas del Dataset\n",
        "df.hist(bins=10,figsize=(12,12))\n",
        "plt.show()"
      ],
      "metadata": {
        "colab": {
          "base_uri": "https://localhost:8080/",
          "height": 1000
        },
        "id": "lF7flpfj74sK",
        "outputId": "780fe301-b6b6-4aa2-9a73-0a1c9a9ea3e3"
      },
      "execution_count": null,
      "outputs": [
        {
          "output_type": "display_data",
          "data": {
            "text/plain": [
              "<Figure size 1200x1200 with 9 Axes>"
            ],
            "image/png": "[encoded data removed]"
          },
          "metadata": {}
        }
      ]
    },
    {
      "cell_type": "markdown",
      "source": [
        "**Conclusiones Intermedias**:\n",
        "- Podemos ver que la mayor frecuencia de embarazos se encuentra entre 0 y 5.\n",
        "- La mayor frecuencia de glucosa se encuentra en los rangos de 100-130.\n",
        "- La mayor frecuencia de presion sanguinea se encuentra entre 60-80.\n",
        "- La mayor frecuencia de SkinThickness se encuentra en 20.\n",
        "- La mayor frecuencia de Insulin se encuentra bajo los 100.\n",
        "- La mayor frecuencia de BMI esta en los rangos de 25-35.\n",
        "- La mayor frecuencia de DiabetesPedigreeFunction 0.1-0.3.\n",
        "- La mayor frecuencia de Age es entre los rangos de 20 a 30 años.\n"
      ],
      "metadata": {
        "id": "k0A69-H4GYIo"
      }
    },
    {
      "cell_type": "markdown",
      "source": [
        "### II.- Modelos"
      ],
      "metadata": {
        "id": "BPOSw4r5Giaj"
      }
    },
    {
      "cell_type": "markdown",
      "source": [
        "**Conclusiones Intermedias**:\n",
        "- Para este caso usaremos modelos de clasificacion ya que solo tenemos 2 clases en la columna objetivo \"Outcome\", las cuales serian 0 = No y 1 = Si\n",
        "\n",
        "Modelos de Clasificación a utilizar:\n",
        "- RandomForest\n",
        "- Arboles de decisión\n",
        "- Regresión Logística\n",
        "- KNN\n",
        "\n",
        "De los cuales vamos a evaluar cada uno para ver cual es el que tiene mejor acertividad en la prediccion."
      ],
      "metadata": {
        "id": "BLwHEZp0GvNl"
      }
    },
    {
      "cell_type": "markdown",
      "source": [
        "###Procesamiento de datos"
      ],
      "metadata": {
        "id": "pwfZJJKUIusQ"
      }
    },
    {
      "cell_type": "code",
      "source": [
        "num_imputer=Pipeline(steps=[\n",
        "    ('imputer',SimpleImputer(strategy='mean'),\n",
        "    ),\n",
        "    ('scaler',StandardScaler()\n",
        "    )\n",
        "])\n",
        "cat_imputer=Pipeline(steps=[\n",
        "    ('imputer',SimpleImputer(strategy='most_frequent'),\n",
        "    )\n",
        "])"
      ],
      "metadata": {
        "id": "nlkE-XLfIrG5"
      },
      "execution_count": null,
      "outputs": []
    },
    {
      "cell_type": "code",
      "source": [
        "X=df.drop('Outcome',axis=1)\n",
        "y=df['Outcome']\n",
        "num_cols=X.select_dtypes(include=['int64','float64']).columns\n",
        "cat_cols=X.select_dtypes(include=['object']).columns"
      ],
      "metadata": {
        "id": "_xDSm8fOIsrP"
      },
      "execution_count": null,
      "outputs": []
    },
    {
      "cell_type": "code",
      "source": [
        "preprocessor=ColumnTransformer(transformers=[\n",
        "    ('num',num_imputer,num_cols),\n",
        "    ('cat',cat_imputer,cat_cols)\n",
        "])\n",
        "\n",
        "X_train, X_test, y_train, y_test = train_test_split(X, y, test_size=0.3, random_state=42)\n",
        "\n",
        "preprocessor.fit(X_train)\n",
        "\n",
        "X_train_processed=preprocessor.transform(X_train)\n",
        "X_test_processed=preprocessor.transform(X_test)\n",
        "\n",
        "preprocessor.fit(X)\n",
        "X_procesada = preprocessor.transform(X)\n"
      ],
      "metadata": {
        "id": "7_oU5A26Ithe"
      },
      "execution_count": null,
      "outputs": []
    },
    {
      "cell_type": "code",
      "source": [
        "print(\"------------------------------------------------------\\n\")\n",
        "print(f\"Tamaño de conjunto de entrenamiento: N° columnas {X_train.shape[1]} // N° de filas: {X_train.shape[0]}\\n\")\n",
        "#print(f\"Tamaño de conjunto de validación: N° columnas {X_val.shape[1]} // N° de filas: {X_val.shape[0]}\\n\")\n",
        "print(f\"Tamaño de conjunto de prueba: N° columnas {X_test.shape[1]} // N° de filas: {X_test.shape[0]}\\n\")\n",
        "print(\"------------------------------------------------------\")"
      ],
      "metadata": {
        "colab": {
          "base_uri": "https://localhost:8080/"
        },
        "id": "VAKRzwfyKMmO",
        "outputId": "3d2af9b8-68fe-4fd6-eba3-5aa8fca9b110"
      },
      "execution_count": null,
      "outputs": [
        {
          "output_type": "stream",
          "name": "stdout",
          "text": [
            "------------------------------------------------------\n",
            "\n",
            "Tamaño de conjunto de entrenamiento: N° columnas 8 // N° de filas: 534\n",
            "\n",
            "Tamaño de conjunto de prueba: N° columnas 8 // N° de filas: 230\n",
            "\n",
            "------------------------------------------------------\n"
          ]
        }
      ]
    },
    {
      "cell_type": "markdown",
      "source": [
        "**Conclusiones Intermedias**:\n",
        "- Se lleva a cabo el preprocesamiento de los datos sin necesidad de utilizar ningún codificador adicional, dado que las características del conjunto de datos ya están representadas como valores numéricos."
      ],
      "metadata": {
        "id": "nRGUW2JF2PgM"
      }
    },
    {
      "cell_type": "markdown",
      "source": [
        "##RandomForestClassifier"
      ],
      "metadata": {
        "id": "U2ppvcd3IAaW"
      }
    },
    {
      "cell_type": "code",
      "source": [
        "param_grid = {\n",
        "    'n_estimators': [10, 50, 100, 200, 500],\n",
        "    'max_features': ['auto', 'sqrt'],\n",
        "    'max_depth': [10, 20, 30, 40, 50, None],\n",
        "    'min_samples_split': [2, 5, 10],\n",
        "    'min_samples_leaf': [1, 2, 4],\n",
        "    'bootstrap': [True, False]\n",
        "}\n",
        "\n",
        "grid = GridSearchCV(RandomForestClassifier(), param_grid, refit=True, verbose=2)\n",
        "grid.fit(X_train_processed, y_train)"
      ],
      "metadata": {
        "id": "pkoJBh_kH_-7"
      },
      "execution_count": null,
      "outputs": []
    },
    {
      "cell_type": "code",
      "source": [
        "best_params = grid.best_params_\n",
        "print(best_params)"
      ],
      "metadata": {
        "colab": {
          "base_uri": "https://localhost:8080/"
        },
        "id": "xGZRum1EKfdS",
        "outputId": "a314d223-f838-4f2c-a027-86aaa438214e"
      },
      "execution_count": null,
      "outputs": [
        {
          "output_type": "stream",
          "name": "stdout",
          "text": [
            "{'bootstrap': False, 'max_depth': 20, 'max_features': 'auto', 'min_samples_leaf': 4, 'min_samples_split': 5, 'n_estimators': 10}\n"
          ]
        }
      ]
    },
    {
      "cell_type": "code",
      "source": [
        "rf = RandomForestClassifier(**best_params)\n",
        "rf.fit(X_train_processed,y_train)\n",
        "y_pred = rf.predict(X_test_processed)\n",
        "print(classification_report(y_test,y_pred))"
      ],
      "metadata": {
        "colab": {
          "base_uri": "https://localhost:8080/"
        },
        "id": "IZm_fSCAKqMz",
        "outputId": "95dee7c4-aff9-4b1f-e1f8-9618a1e51c43"
      },
      "execution_count": null,
      "outputs": [
        {
          "output_type": "stream",
          "name": "stdout",
          "text": [
            "              precision    recall  f1-score   support\n",
            "\n",
            "           0       0.81      0.82      0.81       152\n",
            "           1       0.63      0.62      0.62        78\n",
            "\n",
            "    accuracy                           0.75       230\n",
            "   macro avg       0.72      0.72      0.72       230\n",
            "weighted avg       0.75      0.75      0.75       230\n",
            "\n"
          ]
        },
        {
          "output_type": "stream",
          "name": "stderr",
          "text": [
            "/usr/local/lib/python3.10/dist-packages/sklearn/ensemble/_forest.py:424: FutureWarning: `max_features='auto'` has been deprecated in 1.1 and will be removed in 1.3. To keep the past behaviour, explicitly set `max_features='sqrt'` or remove this parameter as it is also the default value for RandomForestClassifiers and ExtraTreesClassifiers.\n",
            "  warn(\n"
          ]
        }
      ]
    },
    {
      "cell_type": "code",
      "source": [
        "cm = confusion_matrix(y_test, y_pred)\n",
        "\n",
        "fig, ax = plt.subplots()\n",
        "\n",
        "sns.heatmap(cm, annot=True, fmt='d', ax=ax, cmap=\"Blues\", cbar=False)\n",
        "\n",
        "ax.set_xlabel('Predicho')\n",
        "ax.set_ylabel('Verdadero')\n",
        "ax.set_title('Matriz de Confusión')\n",
        "ax.xaxis.set_ticklabels(['0', '1'])\n",
        "ax.yaxis.set_ticklabels(['0', '1'])\n",
        "\n",
        "plt.show()"
      ],
      "metadata": {
        "colab": {
          "base_uri": "https://localhost:8080/",
          "height": 524
        },
        "id": "pQvuqUfZouxS",
        "outputId": "6b853175-1b21-44a9-a5c2-b04ba0d3020f"
      },
      "execution_count": null,
      "outputs": [
        {
          "output_type": "display_data",
          "data": {
            "text/plain": [
              "<Figure size 800x550 with 1 Axes>"
            ],
            "image/png": "[encoded data removed]"
          },
          "metadata": {}
        }
      ]
    },
    {
      "cell_type": "code",
      "source": [
        "print(cm)"
      ],
      "metadata": {
        "colab": {
          "base_uri": "https://localhost:8080/"
        },
        "id": "IJPPppaPg4L1",
        "outputId": "4e69a622-bf61-4d90-f79b-7df4b9fe22d2"
      },
      "execution_count": null,
      "outputs": [
        {
          "output_type": "stream",
          "name": "stdout",
          "text": [
            "[[124  28]\n",
            " [ 30  48]]\n"
          ]
        }
      ]
    },
    {
      "cell_type": "code",
      "source": [
        "# Probabilidades de clasificación para las clases positivas (1)\n",
        "y_proba = rf.predict_proba(X_test_processed)[:, 1]\n",
        "\n",
        "# Calculamos la curva ROC\n",
        "fp, vp, thresholds = roc_curve(y_test, y_proba)"
      ],
      "metadata": {
        "id": "slvgmctjYv4C"
      },
      "execution_count": null,
      "outputs": []
    },
    {
      "cell_type": "code",
      "source": [
        "# Visualización de curva ROC\n",
        "\n",
        "plt.figure(figsize = (8, 6))\n",
        "plt.plot(fp, vp, label = 'Curva ROC')\n",
        "plt.plot([0,1], [0,1], 'k--', label='Línea Referencia')\n",
        "plt.xlim([0.0, 1.0])\n",
        "plt.ylim([0.0, 1.05])\n",
        "plt.xlabel('Tasa Falsos Positivos')\n",
        "plt.ylabel('Tasa Verdaderos Positivos')\n",
        "plt.title('Curva ROC')\n",
        "plt.legend(loc='lower right')\n",
        "plt.show()"
      ],
      "metadata": {
        "colab": {
          "base_uri": "https://localhost:8080/",
          "height": 562
        },
        "id": "qPtnppWWZRL4",
        "outputId": "200f5d7e-7d4b-4dfa-d969-a61267921374"
      },
      "execution_count": null,
      "outputs": [
        {
          "output_type": "display_data",
          "data": {
            "text/plain": [
              "<Figure size 800x600 with 1 Axes>"
            ],
            "image/png": "[encoded data removed]"
          },
          "metadata": {}
        }
      ]
    },
    {
      "cell_type": "code",
      "source": [
        "# Área bajo la curva ROC (AUC)\n",
        "auc = roc_auc_score(y_test, y_proba)\n",
        "print(f'ROC AUC SCORE RANDOM FOREST: {auc}')"
      ],
      "metadata": {
        "colab": {
          "base_uri": "https://localhost:8080/"
        },
        "id": "Sq9hkA9SaEyr",
        "outputId": "fa71526a-f267-40d1-e3c9-bdc7a03c7933"
      },
      "execution_count": null,
      "outputs": [
        {
          "output_type": "stream",
          "name": "stdout",
          "text": [
            "ROC AUC SCORE RANDOM FOREST: 0.7913714574898786\n"
          ]
        }
      ]
    },
    {
      "cell_type": "markdown",
      "source": [
        "**Conclusiones Intermedias RandomForestClassifier**:\n",
        "- Podemos ver que el modelo tiene un recall para la clase 0 de un 82% y para la clase 1 (minoritaria) de un 62%, lo que indica que el 62% de los casos reales de la clase 1 se predijeron correctamente.\n",
        "- El ROC score es de un 0.7914, esto indica que que este modelo tiene una capacidad razonable para distinguir entre clases.\n",
        "\n",
        "Segun la matriz de confusión podemos entender lo siguiente:\n",
        "\n",
        "- Existen 124 verdaderos negativos, correctamente clasificados\n",
        "- Existen 28 falsos negativos, esto puede ser un problema ya que el algoritmo clasifica que el paciente no tiene diabetes cuando si lo tiene\n",
        "- Existen 30 falsos positivos, esto indica que se clasificaron como pacientes diabeticos cuando no cuentan con la enfermedad\n",
        "- Existen 48 verdaderos positivos, se predijo que cuentan con la enfermedad y efectivamente si cuentan con ella"
      ],
      "metadata": {
        "id": "6KMcAitgq_Wi"
      }
    },
    {
      "cell_type": "markdown",
      "source": [
        "##DecisionTreeClassifier"
      ],
      "metadata": {
        "id": "XDJwFw8sL6aw"
      }
    },
    {
      "cell_type": "code",
      "source": [
        "param_grid = {\n",
        "    'criterion': ['gini', 'entropy'],\n",
        "    'max_depth': [None, 2, 3, 4, 5, 6, 8, 10, 15, 20],\n",
        "    'min_samples_split': [2, 5, 10, 15, 20, 25],\n",
        "    'min_samples_leaf': [1, 2, 3, 4, 5, 6, 7, 8, 9, 10],\n",
        "    'max_features': [None, 'auto', 'sqrt', 'log2']\n",
        "}\n",
        "\n",
        "grid = GridSearchCV(DecisionTreeClassifier(), param_grid, refit=True, verbose=2,cv=10)\n",
        "grid.fit(X_train_processed, y_train)"
      ],
      "metadata": {
        "id": "Ctw0BG8oL7xK"
      },
      "execution_count": null,
      "outputs": []
    },
    {
      "cell_type": "code",
      "source": [
        "best_params = grid.best_params_\n",
        "print(best_params)"
      ],
      "metadata": {
        "colab": {
          "base_uri": "https://localhost:8080/"
        },
        "id": "COySvRtKMlaa",
        "outputId": "2e906c1e-af2a-4079-8794-bc889dd6e01d"
      },
      "execution_count": null,
      "outputs": [
        {
          "output_type": "stream",
          "name": "stdout",
          "text": [
            "{'criterion': 'entropy', 'max_depth': 20, 'max_features': 'sqrt', 'min_samples_leaf': 2, 'min_samples_split': 25}\n"
          ]
        }
      ]
    },
    {
      "cell_type": "code",
      "source": [
        "dc = DecisionTreeClassifier(**best_params)\n",
        "dc.fit(X_train_processed,y_train)\n",
        "y_pred = dc.predict(X_test_processed)\n",
        "print(classification_report(y_test,y_pred))"
      ],
      "metadata": {
        "colab": {
          "base_uri": "https://localhost:8080/"
        },
        "id": "XoUJYQHzMvaj",
        "outputId": "c37cdd67-7542-41ec-9d96-354a3145748f"
      },
      "execution_count": null,
      "outputs": [
        {
          "output_type": "stream",
          "name": "stdout",
          "text": [
            "              precision    recall  f1-score   support\n",
            "\n",
            "           0       0.75      0.77      0.76       152\n",
            "           1       0.53      0.50      0.51        78\n",
            "\n",
            "    accuracy                           0.68       230\n",
            "   macro avg       0.64      0.63      0.64       230\n",
            "weighted avg       0.67      0.68      0.68       230\n",
            "\n"
          ]
        }
      ]
    },
    {
      "cell_type": "code",
      "source": [
        "cm = confusion_matrix(y_test, y_pred)\n",
        "\n",
        "fig, ax = plt.subplots()\n",
        "\n",
        "sns.heatmap(cm, annot=True, fmt='d', ax=ax, cmap=\"Blues\", cbar=False)\n",
        "\n",
        "ax.set_xlabel('Predicho')\n",
        "ax.set_ylabel('Verdadero')\n",
        "ax.set_title('Matriz de Confusión')\n",
        "ax.xaxis.set_ticklabels(['0', '1'])\n",
        "ax.yaxis.set_ticklabels(['0', '1'])\n",
        "\n",
        "plt.show()"
      ],
      "metadata": {
        "colab": {
          "base_uri": "https://localhost:8080/",
          "height": 524
        },
        "id": "5W0AhPFapArt",
        "outputId": "77e9599f-fee9-4b80-e895-d0c36c8c5e17"
      },
      "execution_count": null,
      "outputs": [
        {
          "output_type": "display_data",
          "data": {
            "text/plain": [
              "<Figure size 800x550 with 1 Axes>"
            ],
            "image/png": "[encoded data removed]"
          },
          "metadata": {}
        }
      ]
    },
    {
      "cell_type": "code",
      "source": [
        "print(cm)"
      ],
      "metadata": {
        "colab": {
          "base_uri": "https://localhost:8080/"
        },
        "id": "Y4s8UE9Mhl1y",
        "outputId": "33a3a112-e54e-4e1d-d125-2d6a40994df4"
      },
      "execution_count": null,
      "outputs": [
        {
          "output_type": "stream",
          "name": "stdout",
          "text": [
            "[[117  35]\n",
            " [ 39  39]]\n"
          ]
        }
      ]
    },
    {
      "cell_type": "code",
      "source": [
        "# Probabilidades de clasificación para las clases positivas (1)\n",
        "y_proba = dc.predict_proba(X_test_processed)[:, 1]\n",
        "\n",
        "# Calculamos la curva ROC\n",
        "fp, vp, thresholds = roc_curve(y_test, y_proba)"
      ],
      "metadata": {
        "id": "ENXDAqylhY8-"
      },
      "execution_count": null,
      "outputs": []
    },
    {
      "cell_type": "code",
      "source": [
        "# Visualización de curva ROC\n",
        "\n",
        "plt.figure(figsize = (8, 6))\n",
        "plt.plot(fp, vp, label = 'Curva ROC')\n",
        "plt.plot([0,1], [0,1], 'k--', label='Línea Referencia')\n",
        "plt.xlim([0.0, 1.0])\n",
        "plt.ylim([0.0, 1.05])\n",
        "plt.xlabel('Tasa Falsos Positivos')\n",
        "plt.ylabel('Tasa Verdaderos Positivos')\n",
        "plt.title('Curva ROC')\n",
        "plt.legend(loc='lower right')\n",
        "plt.show()"
      ],
      "metadata": {
        "colab": {
          "base_uri": "https://localhost:8080/",
          "height": 562
        },
        "id": "PEkyFSJGivLA",
        "outputId": "ca68e4ef-4ad0-4cbc-803c-939bb79cfcb0"
      },
      "execution_count": null,
      "outputs": [
        {
          "output_type": "display_data",
          "data": {
            "text/plain": [
              "<Figure size 800x600 with 1 Axes>"
            ],
            "image/png": "[encoded data removed]"
          },
          "metadata": {}
        }
      ]
    },
    {
      "cell_type": "code",
      "source": [
        "# Área bajo la curva ROC (AUC)\n",
        "\n",
        "auc= roc_auc_score(y_test, y_proba)\n",
        "print(\"ROC AUC SCORE ARBOLES DE DECISIÓN \", auc)"
      ],
      "metadata": {
        "colab": {
          "base_uri": "https://localhost:8080/"
        },
        "id": "oSsFRANRqosm",
        "outputId": "16a00eed-3c54-46fa-959d-616ec8313adb"
      },
      "execution_count": null,
      "outputs": [
        {
          "output_type": "stream",
          "name": "stdout",
          "text": [
            "ROC AUC SCORE ARBOLES DE DECISIÓN  0.7329622132253713\n"
          ]
        }
      ]
    },
    {
      "cell_type": "markdown",
      "source": [
        "**Conclusiones Intermedias DecisionTreeClassifier**:\n",
        "- Podemos ver que el modelo tiene un recall para la clase 0 de un 77% y para la clase 1 (minoritaria) de un 50%, lo que indica que el 50% de los casos reales de la clase 1 se predijeron correctamente.\n",
        "\n",
        "- El ROC score es de un 0.7330, esto indica que que este modelo tiene una capacidad razonable para distinguir entre clases.\n",
        "\n",
        "- Comparando este modelo v/s el modelo anterior, por el momento RandomForest tiene un mejor porcentaje de predecir la clase 1.\n",
        "\n",
        "Segun la matriz de confusión podemos entender lo siguiente:\n",
        "\n",
        "- Existen 117 verdaderos negativos, correctamente clasificados.\n",
        "- Existen 35 falsos negativos, esto puede ser un problema ya que el algoritmo clasifica que el paciente no tiene diabetes cuando si lo tiene.\n",
        "- Existen 39 falsos positivos, esto indica que se clasificaron como pacientes diabeticos cuando no cuentan con la enfermedad.\n",
        "- Existen 39 verdaderos positivos, se predijo que cuentan con la enfermedad."
      ],
      "metadata": {
        "id": "OtaPrRgarAwj"
      }
    },
    {
      "cell_type": "markdown",
      "source": [
        "###LogisticRegression"
      ],
      "metadata": {
        "id": "uK7vJmIyM_Nl"
      }
    },
    {
      "cell_type": "code",
      "source": [
        "param_grid = {'C': [0.001, 0.005, 0.008, 0.01, 0.05, 0.08, 0.1, 0.3, 0.5, 0.8, 1, 10],\n",
        "              'penalty': ['l1', 'l2'],\n",
        "              'solver': ['newton-cg','lbfgs','liblinear','sag']\n",
        "              }\n",
        "\n",
        "grid = GridSearchCV(LogisticRegression(), param_grid, refit=True, verbose=2)\n",
        "grid.fit(X_train_processed, y_train)"
      ],
      "metadata": {
        "id": "VMFdS7lEM-v3"
      },
      "execution_count": null,
      "outputs": []
    },
    {
      "cell_type": "code",
      "source": [
        "best_params=grid.best_params_\n",
        "print(best_params)"
      ],
      "metadata": {
        "colab": {
          "base_uri": "https://localhost:8080/"
        },
        "id": "Q_xTDkaMNKbl",
        "outputId": "50724200-42c9-41f4-bece-f60dadf7a113"
      },
      "execution_count": null,
      "outputs": [
        {
          "output_type": "stream",
          "name": "stdout",
          "text": [
            "{'C': 0.3, 'penalty': 'l2', 'solver': 'liblinear'}\n"
          ]
        }
      ]
    },
    {
      "cell_type": "code",
      "source": [
        "lr = LogisticRegression(**best_params)\n",
        "lr.fit(X_train_processed,y_train)\n",
        "y_pred = lr.predict(X_test_processed)\n",
        "print(classification_report(y_test,y_pred))"
      ],
      "metadata": {
        "colab": {
          "base_uri": "https://localhost:8080/"
        },
        "id": "S-bJk_v8NMZo",
        "outputId": "bbbccba8-5850-4f61-b5df-2ac9574c0de2"
      },
      "execution_count": null,
      "outputs": [
        {
          "output_type": "stream",
          "name": "stdout",
          "text": [
            "              precision    recall  f1-score   support\n",
            "\n",
            "           0       0.82      0.87      0.84       152\n",
            "           1       0.71      0.63      0.67        78\n",
            "\n",
            "    accuracy                           0.79       230\n",
            "   macro avg       0.77      0.75      0.76       230\n",
            "weighted avg       0.78      0.79      0.78       230\n",
            "\n"
          ]
        }
      ]
    },
    {
      "cell_type": "code",
      "source": [
        "cm = confusion_matrix(y_test, y_pred)\n",
        "\n",
        "fig, ax = plt.subplots()\n",
        "\n",
        "sns.heatmap(cm, annot=True, fmt='d', ax=ax, cmap=\"Blues\", cbar=False)\n",
        "\n",
        "ax.set_xlabel('Predicho')\n",
        "ax.set_ylabel('Verdadero')\n",
        "ax.set_title('Matriz de Confusión')\n",
        "ax.xaxis.set_ticklabels(['0', '1'])\n",
        "ax.yaxis.set_ticklabels(['0', '1'])\n",
        "\n",
        "plt.show()"
      ],
      "metadata": {
        "colab": {
          "base_uri": "https://localhost:8080/",
          "height": 524
        },
        "id": "ICVMD9LJqXdk",
        "outputId": "f037f104-d27e-4c32-961a-2ea7cd03f753"
      },
      "execution_count": null,
      "outputs": [
        {
          "output_type": "display_data",
          "data": {
            "text/plain": [
              "<Figure size 800x550 with 1 Axes>"
            ],
            "image/png": "[encoded data removed]"
          },
          "metadata": {}
        }
      ]
    },
    {
      "cell_type": "code",
      "source": [
        "print(cm)"
      ],
      "metadata": {
        "colab": {
          "base_uri": "https://localhost:8080/"
        },
        "id": "186TSmz3kbTY",
        "outputId": "3bd555c8-7de1-41ee-e1b5-df06dbf4b1d1"
      },
      "execution_count": null,
      "outputs": [
        {
          "output_type": "stream",
          "name": "stdout",
          "text": [
            "[[132  20]\n",
            " [ 29  49]]\n"
          ]
        }
      ]
    },
    {
      "cell_type": "code",
      "source": [
        "# Probabilidades de clasificación para las clases positivas (1)\n",
        "y_proba = lr.predict_proba(X_test_processed)[:, 1]\n",
        "\n",
        "# Calculamos la curva ROC\n",
        "fp, vp, thresholds = roc_curve(y_test, y_proba)"
      ],
      "metadata": {
        "id": "E-kEgvBukfH6"
      },
      "execution_count": null,
      "outputs": []
    },
    {
      "cell_type": "code",
      "source": [
        "# Visualización de curva ROC\n",
        "\n",
        "plt.figure(figsize = (8, 6))\n",
        "plt.plot(fp, vp, label = 'Curva ROC')\n",
        "plt.plot([0,1], [0,1], 'k--', label='Línea Referencia')\n",
        "plt.xlim([0.0, 1.0])\n",
        "plt.ylim([0.0, 1.05])\n",
        "plt.xlabel('Tasa Falsos Positivos')\n",
        "plt.ylabel('Tasa Verdaderos Positivos')\n",
        "plt.title('Curva ROC')\n",
        "plt.legend(loc='lower right')\n",
        "plt.show()"
      ],
      "metadata": {
        "colab": {
          "base_uri": "https://localhost:8080/",
          "height": 562
        },
        "id": "5QAdnfnskjh4",
        "outputId": "358f473a-7f0c-42cd-f757-72916da81124"
      },
      "execution_count": null,
      "outputs": [
        {
          "output_type": "display_data",
          "data": {
            "text/plain": [
              "<Figure size 800x600 with 1 Axes>"
            ],
            "image/png": "[encoded data removed]"
          },
          "metadata": {}
        }
      ]
    },
    {
      "cell_type": "code",
      "source": [
        "auc= roc_auc_score(y_test, y_proba)\n",
        "print(\"ROC AUC SCORE REGRESIÓN LOGÍSTICA \", auc)"
      ],
      "metadata": {
        "colab": {
          "base_uri": "https://localhost:8080/"
        },
        "id": "AandRO1pqjhI",
        "outputId": "3d070058-3b47-460d-b480-5ba6414747b9"
      },
      "execution_count": null,
      "outputs": [
        {
          "output_type": "stream",
          "name": "stdout",
          "text": [
            "ROC AUC SCORE REGRESIÓN LOGÍSTICA  0.8253205128205129\n"
          ]
        }
      ]
    },
    {
      "cell_type": "markdown",
      "source": [
        "**Conclusiones Intermedias LogisticRegression**:\n",
        "- Podemos ver que el modelo tiene un recall para la clase 0 de un 87% y para la clase 1 (minoritaria) de un 63%, lo que indica que el 63% de los casos reales de la clase 1 se predijeron correctamente.\n",
        "\n",
        "- El ROC score es de un 0.8253, esto indica que que este modelo tiene una capacidad razonable para distinguir entre clases\n",
        "\n",
        "Segun la matriz de confusión podemos entender lo siguiente:\n",
        "\n",
        "- Existen 132 verdaderos negativos, correctamente clasificados\n",
        "- Existen 29 falsos negativos, esto puede ser un problema ya que el algoritmo clasifica que el paciente no tiene diabetes cuando si lo tiene\n",
        "- Existen 29 falsos positivos, esto indica que se clasificaron como pacientes diabeticos cuando no cuentan con la enfermedad\n",
        "- Existen 49 verdaderos positivos, se predijo que cuentan con la enfermedad y lamentablemente si cuentan con ella"
      ],
      "metadata": {
        "id": "zIjwSz8-rLoc"
      }
    },
    {
      "cell_type": "markdown",
      "source": [
        "###KNN"
      ],
      "metadata": {
        "id": "7v5d9wX0Nz2_"
      }
    },
    {
      "cell_type": "code",
      "source": [
        "param_grid = {'n_neighbors':[3, 5, 8, 10, 12, 15, 18, 20, 25, 30, 35, 40, 45, 50, 55, 60, 65, 70, 75, 80, 85, 90, 95, 100, 250, 400, 500]}\n",
        "\n",
        "grid = GridSearchCV(KNeighborsClassifier(), param_grid, refit=True, verbose=2)\n",
        "grid.fit(X_train_processed, y_train)"
      ],
      "metadata": {
        "id": "KGIMnqd3N54F"
      },
      "execution_count": null,
      "outputs": []
    },
    {
      "cell_type": "code",
      "source": [
        "best_params=grid.best_params_\n",
        "print(best_params)"
      ],
      "metadata": {
        "colab": {
          "base_uri": "https://localhost:8080/"
        },
        "id": "bM9mAANLTJ70",
        "outputId": "277b1068-5591-42ea-e644-c3674a6df223"
      },
      "execution_count": null,
      "outputs": [
        {
          "output_type": "stream",
          "name": "stdout",
          "text": [
            "{'n_neighbors': 25}\n"
          ]
        }
      ]
    },
    {
      "cell_type": "code",
      "source": [
        "knn = KNeighborsClassifier(**best_params)\n",
        "knn.fit(X_train_processed,y_train)\n",
        "y_pred = knn.predict(X_test_processed)\n",
        "print(classification_report(y_test,y_pred))"
      ],
      "metadata": {
        "colab": {
          "base_uri": "https://localhost:8080/"
        },
        "id": "UUu8lr2nTN7D",
        "outputId": "c1dc750d-0dd6-4fdd-9289-eae5cb46965e"
      },
      "execution_count": null,
      "outputs": [
        {
          "output_type": "stream",
          "name": "stdout",
          "text": [
            "              precision    recall  f1-score   support\n",
            "\n",
            "           0       0.77      0.86      0.81       152\n",
            "           1       0.65      0.50      0.57        78\n",
            "\n",
            "    accuracy                           0.74       230\n",
            "   macro avg       0.71      0.68      0.69       230\n",
            "weighted avg       0.73      0.74      0.73       230\n",
            "\n"
          ]
        }
      ]
    },
    {
      "cell_type": "code",
      "source": [
        "cm = confusion_matrix(y_test, y_pred)\n",
        "\n",
        "fig, ax = plt.subplots()\n",
        "\n",
        "sns.heatmap(cm, annot=True, fmt='d', ax=ax, cmap=\"Blues\", cbar=False)\n",
        "\n",
        "ax.set_xlabel('Predicho')\n",
        "ax.set_ylabel('Verdadero')\n",
        "ax.set_title('Matriz de Confusión')\n",
        "ax.xaxis.set_ticklabels(['0', '1'])\n",
        "ax.yaxis.set_ticklabels(['0', '1'])\n",
        "\n",
        "plt.show()"
      ],
      "metadata": {
        "colab": {
          "base_uri": "https://localhost:8080/",
          "height": 524
        },
        "id": "vsEzC6vKqZPM",
        "outputId": "d0a23677-cd46-4b92-d09d-fed9e4429e8c"
      },
      "execution_count": null,
      "outputs": [
        {
          "output_type": "display_data",
          "data": {
            "text/plain": [
              "<Figure size 800x550 with 1 Axes>"
            ],
            "image/png": "[encoded data removed]"
          },
          "metadata": {}
        }
      ]
    },
    {
      "cell_type": "code",
      "source": [
        "print(cm)"
      ],
      "metadata": {
        "colab": {
          "base_uri": "https://localhost:8080/"
        },
        "id": "2ZbSh-UFlK_a",
        "outputId": "eb235224-27a4-4316-f144-964f7829dee3"
      },
      "execution_count": null,
      "outputs": [
        {
          "output_type": "stream",
          "name": "stdout",
          "text": [
            "[[131  21]\n",
            " [ 39  39]]\n"
          ]
        }
      ]
    },
    {
      "cell_type": "code",
      "source": [
        "# Probabilidades de clasificación para las clases positivas (1)\n",
        "y_proba = knn.predict_proba(X_test_processed)[:, 1]\n",
        "\n",
        "# Calculamos la curva ROC\n",
        "fp, vp, thresholds = roc_curve(y_test, y_proba)"
      ],
      "metadata": {
        "id": "alblO9hClONd"
      },
      "execution_count": null,
      "outputs": []
    },
    {
      "cell_type": "code",
      "source": [
        "# Visualización de curva ROC\n",
        "\n",
        "plt.figure(figsize = (8, 6))\n",
        "plt.plot(fp, vp, label = 'Curva ROC')\n",
        "plt.plot([0,1], [0,1], 'k--', label='Línea Referencia')\n",
        "plt.xlim([0.0, 1.0])\n",
        "plt.ylim([0.0, 1.05])\n",
        "plt.xlabel('Tasa Falsos Positivos')\n",
        "plt.ylabel('Tasa Verdaderos Positivos')\n",
        "plt.title('Curva ROC')\n",
        "plt.legend(loc='lower right')\n",
        "plt.show()"
      ],
      "metadata": {
        "colab": {
          "base_uri": "https://localhost:8080/",
          "height": 562
        },
        "id": "UASF5TA5lRIM",
        "outputId": "e747e181-05ef-488a-b9ea-ecf084602c59"
      },
      "execution_count": null,
      "outputs": [
        {
          "output_type": "display_data",
          "data": {
            "text/plain": [
              "<Figure size 800x600 with 1 Axes>"
            ],
            "image/png": "[encoded data removed]"
          },
          "metadata": {}
        }
      ]
    },
    {
      "cell_type": "code",
      "source": [
        "auc= roc_auc_score(y_test, y_proba)\n",
        "print(\"ROC AUC SCORE KNN \", auc)"
      ],
      "metadata": {
        "colab": {
          "base_uri": "https://localhost:8080/"
        },
        "id": "xOqQpP9LqT2g",
        "outputId": "6c706ab2-8996-469e-99fb-8cbc27cf6aa1"
      },
      "execution_count": null,
      "outputs": [
        {
          "output_type": "stream",
          "name": "stdout",
          "text": [
            "ROC AUC SCORE KNN  0.7960104588394061\n"
          ]
        }
      ]
    },
    {
      "cell_type": "markdown",
      "source": [
        "**Conclusiones Intermedias KNN**:\n",
        "- Podemos ver que el modelo tiene un recall para la clase 0 de un 86% y para la clase 1 (minoritaria) de un 50%, lo que indica que el 50% de los casos reales de la clase 1 se predijeron correctamente.\n",
        "\n",
        "- El ROC score es de un 0.796, esto indica que que este modelo tiene una capacidad razonable para distinguir entre clases\n",
        "\n",
        "Segun la matriz de confusión podemos entender lo siguiente:\n",
        "\n",
        "- Existen 132 verdaderos negativos, correctamente clasificados\n",
        "- Existen 21 falsos negativos, esto puede ser un problema ya que el algoritmo clasifica que el paciente no tiene diabetes cuando si lo tiene\n",
        "- Existen 39 falsos positivos, esto indica que se clasificaron como pacientes diabeticos cuando no cuentan con la enfermedad\n",
        "- Existen 39 verdaderos positivos, se predijo que cuentan con la enfermedad y lamentablemente si cuentan con ella"
      ],
      "metadata": {
        "id": "fOEhH317rMxk"
      }
    },
    {
      "cell_type": "markdown",
      "source": [
        "## Conclusiones Generales\n",
        "- Como vemos de los 4 modelos utilizados el que tuvo mejor rendimiento fue LogisticRegression seguido por RandomForest Classifier (63% y 62% respectivamente) ademas de que su ROC AUC SCORE es de un 0.8253 comparado al modelo de RandomForest el cual tiene un SCORE de 0.7914.\n",
        "- Al ser un dataset desbalanceado en el cual no manejamos este desbalance pusimos enfasis en la medición de recall y curva ROC.\n",
        "- Como vista general a los 4 modelos testeados, ninguno paso la prueba, ya que en caso de ser utilizado en la vida real todos los modelos tienen una tasa de predecir de forma erronea si el paciente tiene o no la enfermedad.\n",
        "- Como mencionamos anteriormente una forma de corregir esto puede ser utilizando un tratamiento correcto a las clases como UnderSample o Oversample."
      ],
      "metadata": {
        "id": "aGGY-VOUXByP"
      }
    }
  ]
}